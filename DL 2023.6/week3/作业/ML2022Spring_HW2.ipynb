{
  "cells": [
    {
      "cell_type": "markdown",
      "metadata": {
        "id": "view-in-github",
        "colab_type": "text"
      },
      "source": [
        "<a href=\"https://colab.research.google.com/github/ldm2060/LearningNote/blob/main/DL%202023.6/week3/%E4%BD%9C%E4%B8%9A/ML2022Spring_HW2.ipynb\" target=\"_parent\"><img src=\"https://colab.research.google.com/assets/colab-badge.svg\" alt=\"Open In Colab\"/></a>"
      ]
    },
    {
      "cell_type": "markdown",
      "metadata": {
        "id": "OYlaRwNu7ojq"
      },
      "source": [
        "# **Homework 2 Phoneme Classification**\n",
        "\n",
        "* Slides: https://docs.google.com/presentation/d/1v6HkBWiJb8WNDcJ9_-2kwVstxUWml87b9CnA16Gdoio/edit?usp=sharing\n",
        "* Kaggle: https://www.kaggle.com/c/ml2022spring-hw2\n",
        "* Video: TBA\n"
      ]
    },
    {
      "cell_type": "code",
      "execution_count": 1,
      "metadata": {
        "id": "mLQI0mNcmM-O",
        "colab": {
          "base_uri": "https://localhost:8080/"
        },
        "outputId": "495b5809-09d9-44d7-a88a-e8646b115e0c"
      },
      "outputs": [
        {
          "output_type": "stream",
          "name": "stdout",
          "text": [
            "/bin/bash: nvidia-smi: command not found\n"
          ]
        }
      ],
      "source": [
        "!nvidia-smi"
      ]
    },
    {
      "cell_type": "markdown",
      "metadata": {
        "id": "KVUGfWTo7_Oj"
      },
      "source": [
        "## Download Data\n",
        "Download data from google drive, then unzip it.\n",
        "\n",
        "You should have\n",
        "- `libriphone/train_split.txt`\n",
        "- `libriphone/train_labels`\n",
        "- `libriphone/test_split.txt`\n",
        "- `libriphone/feat/train/*.pt`: training feature<br>\n",
        "- `libriphone/feat/test/*.pt`:  testing feature<br>\n",
        "\n",
        "after running the following block.\n",
        "\n",
        "> **Notes: if the google drive link is dead, you can download the data directly from [Kaggle](https://www.kaggle.com/c/ml2022spring-hw2/data) and upload it to the workspace**\n"
      ]
    },
    {
      "cell_type": "markdown",
      "metadata": {
        "id": "Bj5jYXsD9Ef3"
      },
      "source": [
        "### Download train/test metadata"
      ]
    },
    {
      "cell_type": "code",
      "execution_count": 2,
      "metadata": {
        "colab": {
          "base_uri": "https://localhost:8080/"
        },
        "id": "OzkiMEcC3Foq",
        "outputId": "0d5723f4-75b4-4582-c7f1-8f73d347b8a7"
      },
      "outputs": [
        {
          "output_type": "stream",
          "name": "stdout",
          "text": [
            "Requirement already satisfied: gdown in /usr/local/lib/python3.10/dist-packages (4.6.6)\n",
            "Collecting gdown\n",
            "  Downloading gdown-4.7.1-py3-none-any.whl (15 kB)\n",
            "Requirement already satisfied: filelock in /usr/local/lib/python3.10/dist-packages (from gdown) (3.12.2)\n",
            "Requirement already satisfied: requests[socks] in /usr/local/lib/python3.10/dist-packages (from gdown) (2.27.1)\n",
            "Requirement already satisfied: six in /usr/local/lib/python3.10/dist-packages (from gdown) (1.16.0)\n",
            "Requirement already satisfied: tqdm in /usr/local/lib/python3.10/dist-packages (from gdown) (4.65.0)\n",
            "Requirement already satisfied: beautifulsoup4 in /usr/local/lib/python3.10/dist-packages (from gdown) (4.11.2)\n",
            "Requirement already satisfied: soupsieve>1.2 in /usr/local/lib/python3.10/dist-packages (from beautifulsoup4->gdown) (2.4.1)\n",
            "Requirement already satisfied: urllib3<1.27,>=1.21.1 in /usr/local/lib/python3.10/dist-packages (from requests[socks]->gdown) (1.26.16)\n",
            "Requirement already satisfied: certifi>=2017.4.17 in /usr/local/lib/python3.10/dist-packages (from requests[socks]->gdown) (2023.5.7)\n",
            "Requirement already satisfied: charset-normalizer~=2.0.0 in /usr/local/lib/python3.10/dist-packages (from requests[socks]->gdown) (2.0.12)\n",
            "Requirement already satisfied: idna<4,>=2.5 in /usr/local/lib/python3.10/dist-packages (from requests[socks]->gdown) (3.4)\n",
            "Requirement already satisfied: PySocks!=1.5.7,>=1.5.6 in /usr/local/lib/python3.10/dist-packages (from requests[socks]->gdown) (1.7.1)\n",
            "Installing collected packages: gdown\n",
            "  Attempting uninstall: gdown\n",
            "    Found existing installation: gdown 4.6.6\n",
            "    Uninstalling gdown-4.6.6:\n",
            "      Successfully uninstalled gdown-4.6.6\n",
            "Successfully installed gdown-4.7.1\n",
            "/usr/local/lib/python3.10/dist-packages/gdown/cli.py:126: FutureWarning: Option `--id` was deprecated in version 4.3.1 and will be removed in 5.0. You don't need to pass it anymore to use a file ID.\n",
            "  warnings.warn(\n",
            "Downloading...\n",
            "From (uriginal): https://drive.google.com/uc?id=1o6Ag-G3qItSmYhTheX6DYiuyNzWyHyTc\n",
            "From (redirected): https://drive.google.com/uc?id=1o6Ag-G3qItSmYhTheX6DYiuyNzWyHyTc&confirm=t&uuid=116e46a4-37a2-4bd1-b6d9-0cec084a6b08\n",
            "To: /content/libriphone.zip\n",
            "100% 479M/479M [00:12<00:00, 37.4MB/s]\n",
            "feat  test_split.txt  train_labels.txt\ttrain_split.txt\n"
          ]
        }
      ],
      "source": [
        "!pip install --upgrade gdown\n",
        "\n",
        "# Main link\n",
        "!gdown --id '1o6Ag-G3qItSmYhTheX6DYiuyNzWyHyTc' --output libriphone.zip\n",
        "\n",
        "# Backup link 1\n",
        "# !gdown --id '1R1uQYi4QpX0tBfUWt2mbZcncdBsJkxeW' --output libriphone.zip\n",
        "\n",
        "# Bqckup link 2\n",
        "# !wget -O libriphone.zip \"https://www.dropbox.com/s/wqww8c5dbrl2ka9/libriphone.zip?dl=1\"\n",
        "\n",
        "!unzip -q libriphone.zip\n",
        "!ls libriphone"
      ]
    },
    {
      "cell_type": "markdown",
      "metadata": {
        "id": "_L_4anls8Drv"
      },
      "source": [
        "### Preparing Data"
      ]
    },
    {
      "cell_type": "markdown",
      "metadata": {
        "id": "po4N3C-AWuWl"
      },
      "source": [
        "**Helper functions to pre-process the training data from raw MFCC features of each utterance.**\n",
        "\n",
        "A phoneme may span several frames and is dependent to past and future frames. \\\n",
        "Hence we concatenate neighboring phonemes for training to achieve higher accuracy. The **concat_feat** function concatenates past and future k frames (total 2k+1 = n frames), and we predict the center frame.\n",
        "\n",
        "Feel free to modify the data preprocess functions, but **do not drop any frame** (if you modify the functions, remember to check that the number of frames are the same as mentioned in the slides)"
      ]
    },
    {
      "cell_type": "code",
      "execution_count": 3,
      "metadata": {
        "id": "IJjLT8em-y9G"
      },
      "outputs": [],
      "source": [
        "import os\n",
        "import random\n",
        "import pandas as pd\n",
        "import torch\n",
        "from tqdm import tqdm\n",
        "\n",
        "def load_feat(path):\n",
        "    feat = torch.load(path)\n",
        "    return feat\n",
        "\n",
        "def shift(x, n):\n",
        "    if n < 0:\n",
        "        left = x[0].repeat(-n, 1)\n",
        "        right = x[:n]\n",
        "\n",
        "    elif n > 0:\n",
        "        right = x[-1].repeat(n, 1)\n",
        "        left = x[n:]\n",
        "    else:\n",
        "        return x\n",
        "\n",
        "    return torch.cat((left, right), dim=0)\n",
        "\n",
        "def concat_feat(x, concat_n):\n",
        "    assert concat_n % 2 == 1 # n must be odd\n",
        "    if concat_n < 2:\n",
        "        return x\n",
        "    seq_len, feature_dim = x.size(0), x.size(1)\n",
        "    x = x.repeat(1, concat_n)\n",
        "    x = x.view(seq_len, concat_n, feature_dim).permute(1, 0, 2) # concat_n, seq_len, feature_dim\n",
        "    mid = (concat_n // 2)\n",
        "    for r_idx in range(1, mid+1):\n",
        "        x[mid + r_idx, :] = shift(x[mid + r_idx], r_idx)\n",
        "        x[mid - r_idx, :] = shift(x[mid - r_idx], -r_idx)\n",
        "\n",
        "    return x.permute(1, 0, 2).view(seq_len, concat_n * feature_dim)\n",
        "\n",
        "def preprocess_data(split, feat_dir, phone_path, concat_nframes, train_ratio=0.8, train_val_seed=1337):\n",
        "    class_num = 41 # NOTE: pre-computed, should not need change\n",
        "    mode = 'train' if (split == 'train' or split == 'val') else 'test'\n",
        "\n",
        "    label_dict = {}\n",
        "    if mode != 'test':\n",
        "      phone_file = open(os.path.join(phone_path, f'{mode}_labels.txt')).readlines()\n",
        "\n",
        "      for line in phone_file:\n",
        "          line = line.strip('\\n').split(' ')\n",
        "          label_dict[line[0]] = [int(p) for p in line[1:]]\n",
        "\n",
        "    if split == 'train' or split == 'val':\n",
        "        # split training and validation data\n",
        "        usage_list = open(os.path.join(phone_path, 'train_split.txt')).readlines()\n",
        "        random.seed(train_val_seed)\n",
        "        random.shuffle(usage_list)\n",
        "        percent = int(len(usage_list) * train_ratio)\n",
        "        usage_list = usage_list[:percent] if split == 'train' else usage_list[percent:]\n",
        "    elif split == 'test':\n",
        "        usage_list = open(os.path.join(phone_path, 'test_split.txt')).readlines()\n",
        "    else:\n",
        "        raise ValueError('Invalid \\'split\\' argument for dataset: PhoneDataset!')\n",
        "\n",
        "    usage_list = [line.strip('\\n') for line in usage_list]\n",
        "    print('[Dataset] - # phone classes: ' + str(class_num) + ', number of utterances for ' + split + ': ' + str(len(usage_list)))\n",
        "\n",
        "    max_len = 3000000\n",
        "    X = torch.empty(max_len, 39 * concat_nframes)\n",
        "    if mode != 'test':\n",
        "      y = torch.empty(max_len, dtype=torch.long)\n",
        "\n",
        "    idx = 0\n",
        "    for i, fname in tqdm(enumerate(usage_list)):\n",
        "        feat = load_feat(os.path.join(feat_dir, mode, f'{fname}.pt'))\n",
        "        cur_len = len(feat)\n",
        "        feat = concat_feat(feat, concat_nframes)\n",
        "        if mode != 'test':\n",
        "          label = torch.LongTensor(label_dict[fname])\n",
        "\n",
        "        X[idx: idx + cur_len, :] = feat\n",
        "        if mode != 'test':\n",
        "          y[idx: idx + cur_len] = label\n",
        "\n",
        "        idx += cur_len\n",
        "\n",
        "    X = X[:idx, :]\n",
        "    if mode != 'test':\n",
        "      y = y[:idx]\n",
        "\n",
        "    print(f'[INFO] {split} set')\n",
        "    print(X.shape)\n",
        "    if mode != 'test':\n",
        "      print(y.shape)\n",
        "      return X, y\n",
        "    else:\n",
        "      return X\n"
      ]
    },
    {
      "cell_type": "markdown",
      "metadata": {
        "id": "us5XW_x6udZQ"
      },
      "source": [
        "## Define Dataset"
      ]
    },
    {
      "cell_type": "code",
      "execution_count": 4,
      "metadata": {
        "id": "Fjf5EcmJtf4e"
      },
      "outputs": [],
      "source": [
        "import torch\n",
        "from torch.utils.data import Dataset\n",
        "from torch.utils.data import DataLoader\n",
        "\n",
        "class LibriDataset(Dataset):\n",
        "    def __init__(self, X, y=None):\n",
        "        self.data = X\n",
        "        if y is not None:\n",
        "            self.label = torch.LongTensor(y)\n",
        "        else:\n",
        "            self.label = None\n",
        "\n",
        "    def __getitem__(self, idx):\n",
        "        if self.label is not None:\n",
        "            return self.data[idx], self.label[idx]\n",
        "        else:\n",
        "            return self.data[idx]\n",
        "\n",
        "    def __len__(self):\n",
        "        return len(self.data)\n"
      ]
    },
    {
      "cell_type": "markdown",
      "metadata": {
        "id": "IRqKNvNZwe3V"
      },
      "source": [
        "## Define Model"
      ]
    },
    {
      "cell_type": "code",
      "execution_count": 5,
      "metadata": {
        "id": "Bg-GRd7ywdrL"
      },
      "outputs": [],
      "source": [
        "import torch\n",
        "import torch.nn as nn\n",
        "import torch.nn.functional as F\n",
        "\n",
        "class BasicBlock(nn.Module):\n",
        "    def __init__(self, input_dim, output_dim):\n",
        "        super(BasicBlock, self).__init__()\n",
        "\n",
        "        self.block = nn.Sequential(\n",
        "            nn.Linear(input_dim, output_dim),\n",
        "            nn.Sigmoid(),\n",
        "            nn.BatchNorm1d( output_dim),\n",
        "            nn.Dropout(0.3),\n",
        "            nn.Linear(output_dim, output_dim),\n",
        "            nn.LeakyReLU(0.3),\n",
        "        )\n",
        "\n",
        "    def forward(self, x):\n",
        "        x = self.block(x)\n",
        "        return x\n",
        "\n",
        "\n",
        "class Classifier(nn.Module):\n",
        "    def __init__(self, input_dim, output_dim=41, hidden_layers=1, hidden_dim=256):\n",
        "        super(Classifier, self).__init__()\n",
        "\n",
        "        self.fc = nn.Sequential(\n",
        "            BasicBlock(input_dim, hidden_dim),\n",
        "            *[BasicBlock(hidden_dim, hidden_dim) for _ in range(hidden_layers)],\n",
        "            nn.Linear(hidden_dim, output_dim)\n",
        "        )\n",
        "\n",
        "    def forward(self, x):\n",
        "        x = self.fc(x)\n",
        "        return x"
      ]
    },
    {
      "cell_type": "markdown",
      "source": [
        "## Hyper-parameters"
      ],
      "metadata": {
        "id": "TlIq8JeqvvHC"
      }
    },
    {
      "cell_type": "code",
      "source": [
        "# data prarameters\n",
        "concat_nframes = 19             # the number of frames to concat with, n must be odd (total 2k+1 = n frames)\n",
        "train_ratio = 0.8               # the ratio of data used for training, the rest will be used for validation\n",
        "\n",
        "# training parameters\n",
        "seed = 200026                        # random seed\n",
        "batch_size = 512                # batch size\n",
        "num_epoch = 50                   # the number of training epoch\n",
        "learning_rate = 1e-4          # learning rate\n",
        "model_path = './model.ckpt'     # the path where the checkpoint will be saved\n",
        "\n",
        "# model parameters\n",
        "input_dim = 39 * concat_nframes # the input dim of the model, you should not change the value\n",
        "hidden_layers = 4               # the number of hidden layers\n",
        "hidden_dim = 256                # the hidden dim"
      ],
      "metadata": {
        "id": "iIHn79Iav1ri"
      },
      "execution_count": 6,
      "outputs": []
    },
    {
      "cell_type": "markdown",
      "source": [
        "## Prepare dataset and model"
      ],
      "metadata": {
        "id": "IIUFRgG5yoDn"
      }
    },
    {
      "cell_type": "code",
      "source": [
        "import gc\n",
        "\n",
        "# preprocess data\n",
        "train_X, train_y = preprocess_data(split='train', feat_dir='./libriphone/feat', phone_path='./libriphone', concat_nframes=concat_nframes, train_ratio=train_ratio)\n",
        "val_X, val_y = preprocess_data(split='val', feat_dir='./libriphone/feat', phone_path='./libriphone', concat_nframes=concat_nframes, train_ratio=train_ratio)\n",
        "\n",
        "# get dataset\n",
        "train_set = LibriDataset(train_X, train_y)\n",
        "val_set = LibriDataset(val_X, val_y)\n",
        "\n",
        "# remove raw feature to save memory\n",
        "del train_X, train_y, val_X, val_y\n",
        "gc.collect()\n",
        "\n",
        "# get dataloader\n",
        "train_loader = DataLoader(train_set, batch_size=batch_size, shuffle=True)\n",
        "val_loader = DataLoader(val_set, batch_size=batch_size, shuffle=False)"
      ],
      "metadata": {
        "id": "c1zI3v5jyrDn",
        "colab": {
          "base_uri": "https://localhost:8080/"
        },
        "outputId": "033efff2-8f0d-49a3-bc66-ac2e68bc94f4"
      },
      "execution_count": 7,
      "outputs": [
        {
          "output_type": "stream",
          "name": "stdout",
          "text": [
            "[Dataset] - # phone classes: 41, number of utterances for train: 3428\n"
          ]
        },
        {
          "output_type": "stream",
          "name": "stderr",
          "text": [
            "3428it [00:19, 174.90it/s]\n"
          ]
        },
        {
          "output_type": "stream",
          "name": "stdout",
          "text": [
            "[INFO] train set\n",
            "torch.Size([2116368, 741])\n",
            "torch.Size([2116368])\n",
            "[Dataset] - # phone classes: 41, number of utterances for val: 858\n"
          ]
        },
        {
          "output_type": "stream",
          "name": "stderr",
          "text": [
            "858it [00:10, 80.49it/s] \n"
          ]
        },
        {
          "output_type": "stream",
          "name": "stdout",
          "text": [
            "[INFO] val set\n",
            "torch.Size([527790, 741])\n",
            "torch.Size([527790])\n"
          ]
        }
      ]
    },
    {
      "cell_type": "code",
      "execution_count": 8,
      "metadata": {
        "id": "CfRUEgC0GxUV",
        "colab": {
          "base_uri": "https://localhost:8080/"
        },
        "outputId": "df0100bd-8815-4885-df30-630e7cda158c"
      },
      "outputs": [
        {
          "output_type": "stream",
          "name": "stdout",
          "text": [
            "DEVICE: cpu\n"
          ]
        }
      ],
      "source": [
        "device = 'cuda:0' if torch.cuda.is_available() else 'cpu'\n",
        "print(f'DEVICE: {device}')"
      ]
    },
    {
      "cell_type": "code",
      "execution_count": 9,
      "metadata": {
        "id": "88xPiUnm0tAd"
      },
      "outputs": [],
      "source": [
        "import numpy as np\n",
        "\n",
        "#fix seed\n",
        "def same_seeds(seed):\n",
        "    torch.manual_seed(seed)\n",
        "    if torch.cuda.is_available():\n",
        "        torch.cuda.manual_seed(seed)\n",
        "        torch.cuda.manual_seed_all(seed)\n",
        "    np.random.seed(seed)\n",
        "    torch.backends.cudnn.benchmark = False\n",
        "    torch.backends.cudnn.deterministic = True"
      ]
    },
    {
      "cell_type": "code",
      "execution_count": 10,
      "metadata": {
        "id": "QTp3ZXg1yO9Y"
      },
      "outputs": [],
      "source": [
        "# fix random seed\n",
        "same_seeds(seed)\n",
        "\n",
        "# create model, define a loss function, and optimizer\n",
        "model = Classifier(input_dim=input_dim, hidden_layers=hidden_layers, hidden_dim=hidden_dim).to(device)\n",
        "criterion = nn.CrossEntropyLoss()\n",
        "optimizer = torch.optim.AdamW(model.parameters(), lr=learning_rate)"
      ]
    },
    {
      "cell_type": "markdown",
      "source": [
        "## Training"
      ],
      "metadata": {
        "id": "pwWH1KIqzxEr"
      }
    },
    {
      "cell_type": "code",
      "execution_count": 11,
      "metadata": {
        "id": "CdMWsBs7zzNs",
        "colab": {
          "base_uri": "https://localhost:8080/"
        },
        "outputId": "6ed784b7-ad8e-4dfa-d2bf-41c6d1fe4008"
      },
      "outputs": [
        {
          "output_type": "stream",
          "name": "stderr",
          "text": [
            "100%|██████████| 4134/4134 [04:43<00:00, 14.58it/s]\n",
            "100%|██████████| 1031/1031 [00:30<00:00, 34.04it/s]\n"
          ]
        },
        {
          "output_type": "stream",
          "name": "stdout",
          "text": [
            "[001/050] Train Acc: 0.506493 Loss: 1.661362 | Val Acc: 0.585363 loss: 1.341609\n",
            "saving model with acc 0.585\n"
          ]
        },
        {
          "output_type": "stream",
          "name": "stderr",
          "text": [
            "100%|██████████| 4134/4134 [04:38<00:00, 14.82it/s]\n",
            "100%|██████████| 1031/1031 [00:25<00:00, 40.27it/s]\n"
          ]
        },
        {
          "output_type": "stream",
          "name": "stdout",
          "text": [
            "[002/050] Train Acc: 0.567879 Loss: 1.415555 | Val Acc: 0.617545 loss: 1.228884\n",
            "saving model with acc 0.618\n"
          ]
        },
        {
          "output_type": "stream",
          "name": "stderr",
          "text": [
            "100%|██████████| 4134/4134 [04:48<00:00, 14.35it/s]\n",
            "100%|██████████| 1031/1031 [00:24<00:00, 41.31it/s]\n"
          ]
        },
        {
          "output_type": "stream",
          "name": "stdout",
          "text": [
            "[003/050] Train Acc: 0.588242 Loss: 1.341683 | Val Acc: 0.630899 loss: 1.179529\n",
            "saving model with acc 0.631\n"
          ]
        },
        {
          "output_type": "stream",
          "name": "stderr",
          "text": [
            "100%|██████████| 4134/4134 [04:41<00:00, 14.69it/s]\n",
            "100%|██████████| 1031/1031 [00:24<00:00, 42.17it/s]\n"
          ]
        },
        {
          "output_type": "stream",
          "name": "stdout",
          "text": [
            "[004/050] Train Acc: 0.600702 Loss: 1.296560 | Val Acc: 0.643824 loss: 1.138034\n",
            "saving model with acc 0.644\n"
          ]
        },
        {
          "output_type": "stream",
          "name": "stderr",
          "text": [
            "100%|██████████| 4134/4134 [04:38<00:00, 14.85it/s]\n",
            "100%|██████████| 1031/1031 [00:24<00:00, 42.47it/s]\n"
          ]
        },
        {
          "output_type": "stream",
          "name": "stdout",
          "text": [
            "[005/050] Train Acc: 0.609559 Loss: 1.265424 | Val Acc: 0.650198 loss: 1.114581\n",
            "saving model with acc 0.650\n"
          ]
        },
        {
          "output_type": "stream",
          "name": "stderr",
          "text": [
            "100%|██████████| 4134/4134 [04:37<00:00, 14.90it/s]\n",
            "100%|██████████| 1031/1031 [00:25<00:00, 40.49it/s]\n"
          ]
        },
        {
          "output_type": "stream",
          "name": "stdout",
          "text": [
            "[006/050] Train Acc: 0.616779 Loss: 1.240194 | Val Acc: 0.656411 loss: 1.093940\n",
            "saving model with acc 0.656\n"
          ]
        },
        {
          "output_type": "stream",
          "name": "stderr",
          "text": [
            "100%|██████████| 4134/4134 [04:44<00:00, 14.53it/s]\n",
            "100%|██████████| 1031/1031 [00:24<00:00, 41.64it/s]\n"
          ]
        },
        {
          "output_type": "stream",
          "name": "stdout",
          "text": [
            "[007/050] Train Acc: 0.622227 Loss: 1.220924 | Val Acc: 0.661312 loss: 1.075493\n",
            "saving model with acc 0.661\n"
          ]
        },
        {
          "output_type": "stream",
          "name": "stderr",
          "text": [
            "100%|██████████| 4134/4134 [04:46<00:00, 14.44it/s]\n",
            "100%|██████████| 1031/1031 [00:24<00:00, 42.28it/s]\n"
          ]
        },
        {
          "output_type": "stream",
          "name": "stdout",
          "text": [
            "[008/050] Train Acc: 0.626567 Loss: 1.204894 | Val Acc: 0.665462 loss: 1.061103\n",
            "saving model with acc 0.665\n"
          ]
        },
        {
          "output_type": "stream",
          "name": "stderr",
          "text": [
            "100%|██████████| 4134/4134 [04:36<00:00, 14.93it/s]\n",
            "100%|██████████| 1031/1031 [00:24<00:00, 42.46it/s]\n"
          ]
        },
        {
          "output_type": "stream",
          "name": "stdout",
          "text": [
            "[009/050] Train Acc: 0.630871 Loss: 1.191190 | Val Acc: 0.668139 loss: 1.052594\n",
            "saving model with acc 0.668\n"
          ]
        },
        {
          "output_type": "stream",
          "name": "stderr",
          "text": [
            "100%|██████████| 4134/4134 [04:36<00:00, 14.95it/s]\n",
            "100%|██████████| 1031/1031 [00:24<00:00, 41.96it/s]\n"
          ]
        },
        {
          "output_type": "stream",
          "name": "stdout",
          "text": [
            "[010/050] Train Acc: 0.634435 Loss: 1.177662 | Val Acc: 0.672068 loss: 1.037833\n",
            "saving model with acc 0.672\n"
          ]
        },
        {
          "output_type": "stream",
          "name": "stderr",
          "text": [
            "100%|██████████| 4134/4134 [04:37<00:00, 14.91it/s]\n",
            "100%|██████████| 1031/1031 [00:23<00:00, 44.16it/s]\n"
          ]
        },
        {
          "output_type": "stream",
          "name": "stdout",
          "text": [
            "[011/050] Train Acc: 0.637035 Loss: 1.168177 | Val Acc: 0.674056 loss: 1.030485\n",
            "saving model with acc 0.674\n"
          ]
        },
        {
          "output_type": "stream",
          "name": "stderr",
          "text": [
            "100%|██████████| 4134/4134 [04:45<00:00, 14.49it/s]\n",
            "100%|██████████| 1031/1031 [00:27<00:00, 37.80it/s]\n"
          ]
        },
        {
          "output_type": "stream",
          "name": "stdout",
          "text": [
            "[012/050] Train Acc: 0.639705 Loss: 1.158774 | Val Acc: 0.677544 loss: 1.020054\n",
            "saving model with acc 0.678\n"
          ]
        },
        {
          "output_type": "stream",
          "name": "stderr",
          "text": [
            "100%|██████████| 4134/4134 [04:41<00:00, 14.66it/s]\n",
            "100%|██████████| 1031/1031 [00:24<00:00, 42.00it/s]\n"
          ]
        },
        {
          "output_type": "stream",
          "name": "stdout",
          "text": [
            "[013/050] Train Acc: 0.642444 Loss: 1.149479 | Val Acc: 0.679045 loss: 1.014986\n",
            "saving model with acc 0.679\n"
          ]
        },
        {
          "output_type": "stream",
          "name": "stderr",
          "text": [
            "100%|██████████| 4134/4134 [04:46<00:00, 14.43it/s]\n",
            "100%|██████████| 1031/1031 [00:25<00:00, 40.83it/s]\n"
          ]
        },
        {
          "output_type": "stream",
          "name": "stdout",
          "text": [
            "[014/050] Train Acc: 0.644479 Loss: 1.142164 | Val Acc: 0.680919 loss: 1.007288\n",
            "saving model with acc 0.681\n"
          ]
        },
        {
          "output_type": "stream",
          "name": "stderr",
          "text": [
            "100%|██████████| 4134/4134 [04:41<00:00, 14.70it/s]\n",
            "100%|██████████| 1031/1031 [00:24<00:00, 42.43it/s]\n"
          ]
        },
        {
          "output_type": "stream",
          "name": "stdout",
          "text": [
            "[015/050] Train Acc: 0.646405 Loss: 1.134110 | Val Acc: 0.683882 loss: 0.999139\n",
            "saving model with acc 0.684\n"
          ]
        },
        {
          "output_type": "stream",
          "name": "stderr",
          "text": [
            "100%|██████████| 4134/4134 [04:39<00:00, 14.77it/s]\n",
            "100%|██████████| 1031/1031 [00:24<00:00, 41.74it/s]\n"
          ]
        },
        {
          "output_type": "stream",
          "name": "stdout",
          "text": [
            "[016/050] Train Acc: 0.648558 Loss: 1.127848 | Val Acc: 0.683768 loss: 0.997325\n"
          ]
        },
        {
          "output_type": "stream",
          "name": "stderr",
          "text": [
            "100%|██████████| 4134/4134 [04:53<00:00, 14.09it/s]\n",
            "100%|██████████| 1031/1031 [00:25<00:00, 40.67it/s]\n"
          ]
        },
        {
          "output_type": "stream",
          "name": "stdout",
          "text": [
            "[017/050] Train Acc: 0.650789 Loss: 1.120997 | Val Acc: 0.685852 loss: 0.991156\n",
            "saving model with acc 0.686\n"
          ]
        },
        {
          "output_type": "stream",
          "name": "stderr",
          "text": [
            "100%|██████████| 4134/4134 [04:40<00:00, 14.71it/s]\n",
            "100%|██████████| 1031/1031 [00:24<00:00, 42.35it/s]\n"
          ]
        },
        {
          "output_type": "stream",
          "name": "stdout",
          "text": [
            "[018/050] Train Acc: 0.652266 Loss: 1.115452 | Val Acc: 0.686870 loss: 0.987127\n",
            "saving model with acc 0.687\n"
          ]
        },
        {
          "output_type": "stream",
          "name": "stderr",
          "text": [
            "100%|██████████| 4134/4134 [04:37<00:00, 14.89it/s]\n",
            "100%|██████████| 1031/1031 [00:24<00:00, 42.42it/s]\n"
          ]
        },
        {
          "output_type": "stream",
          "name": "stdout",
          "text": [
            "[019/050] Train Acc: 0.653769 Loss: 1.110326 | Val Acc: 0.689009 loss: 0.980038\n",
            "saving model with acc 0.689\n"
          ]
        },
        {
          "output_type": "stream",
          "name": "stderr",
          "text": [
            "100%|██████████| 4134/4134 [04:35<00:00, 15.02it/s]\n",
            "100%|██████████| 1031/1031 [00:24<00:00, 42.53it/s]\n"
          ]
        },
        {
          "output_type": "stream",
          "name": "stdout",
          "text": [
            "[020/050] Train Acc: 0.655032 Loss: 1.104713 | Val Acc: 0.690377 loss: 0.976074\n",
            "saving model with acc 0.690\n"
          ]
        },
        {
          "output_type": "stream",
          "name": "stderr",
          "text": [
            "100%|██████████| 4134/4134 [04:37<00:00, 14.92it/s]\n",
            "100%|██████████| 1031/1031 [00:24<00:00, 42.78it/s]\n"
          ]
        },
        {
          "output_type": "stream",
          "name": "stdout",
          "text": [
            "[021/050] Train Acc: 0.656579 Loss: 1.099851 | Val Acc: 0.691800 loss: 0.971044\n",
            "saving model with acc 0.692\n"
          ]
        },
        {
          "output_type": "stream",
          "name": "stderr",
          "text": [
            "100%|██████████| 4134/4134 [04:36<00:00, 14.94it/s]\n",
            "100%|██████████| 1031/1031 [00:23<00:00, 44.26it/s]\n"
          ]
        },
        {
          "output_type": "stream",
          "name": "stdout",
          "text": [
            "[022/050] Train Acc: 0.657597 Loss: 1.096381 | Val Acc: 0.693245 loss: 0.967229\n",
            "saving model with acc 0.693\n"
          ]
        },
        {
          "output_type": "stream",
          "name": "stderr",
          "text": [
            "100%|██████████| 4134/4134 [04:35<00:00, 15.02it/s]\n",
            "100%|██████████| 1031/1031 [00:24<00:00, 42.60it/s]\n"
          ]
        },
        {
          "output_type": "stream",
          "name": "stdout",
          "text": [
            "[023/050] Train Acc: 0.659216 Loss: 1.091270 | Val Acc: 0.693418 loss: 0.962240\n",
            "saving model with acc 0.693\n"
          ]
        },
        {
          "output_type": "stream",
          "name": "stderr",
          "text": [
            "100%|██████████| 4134/4134 [04:36<00:00, 14.93it/s]\n",
            "100%|██████████| 1031/1031 [00:23<00:00, 43.61it/s]\n"
          ]
        },
        {
          "output_type": "stream",
          "name": "stdout",
          "text": [
            "[024/050] Train Acc: 0.660054 Loss: 1.087599 | Val Acc: 0.694579 loss: 0.961238\n",
            "saving model with acc 0.695\n"
          ]
        },
        {
          "output_type": "stream",
          "name": "stderr",
          "text": [
            "100%|██████████| 4134/4134 [04:39<00:00, 14.81it/s]\n",
            "100%|██████████| 1031/1031 [00:24<00:00, 42.29it/s]\n"
          ]
        },
        {
          "output_type": "stream",
          "name": "stdout",
          "text": [
            "[025/050] Train Acc: 0.661350 Loss: 1.083669 | Val Acc: 0.695373 loss: 0.956785\n",
            "saving model with acc 0.695\n"
          ]
        },
        {
          "output_type": "stream",
          "name": "stderr",
          "text": [
            "100%|██████████| 4134/4134 [04:35<00:00, 15.01it/s]\n",
            "100%|██████████| 1031/1031 [00:24<00:00, 42.42it/s]\n"
          ]
        },
        {
          "output_type": "stream",
          "name": "stdout",
          "text": [
            "[026/050] Train Acc: 0.662251 Loss: 1.080371 | Val Acc: 0.698111 loss: 0.951163\n",
            "saving model with acc 0.698\n"
          ]
        },
        {
          "output_type": "stream",
          "name": "stderr",
          "text": [
            "100%|██████████| 4134/4134 [04:38<00:00, 14.87it/s]\n",
            "100%|██████████| 1031/1031 [00:26<00:00, 39.62it/s]\n"
          ]
        },
        {
          "output_type": "stream",
          "name": "stdout",
          "text": [
            "[027/050] Train Acc: 0.663193 Loss: 1.077113 | Val Acc: 0.698948 loss: 0.947416\n",
            "saving model with acc 0.699\n"
          ]
        },
        {
          "output_type": "stream",
          "name": "stderr",
          "text": [
            "100%|██████████| 4134/4134 [04:51<00:00, 14.18it/s]\n",
            "100%|██████████| 1031/1031 [00:27<00:00, 37.39it/s]\n"
          ]
        },
        {
          "output_type": "stream",
          "name": "stdout",
          "text": [
            "[028/050] Train Acc: 0.664116 Loss: 1.073213 | Val Acc: 0.698964 loss: 0.947918\n",
            "saving model with acc 0.699\n"
          ]
        },
        {
          "output_type": "stream",
          "name": "stderr",
          "text": [
            "100%|██████████| 4134/4134 [04:50<00:00, 14.21it/s]\n",
            "100%|██████████| 1031/1031 [00:25<00:00, 39.99it/s]\n"
          ]
        },
        {
          "output_type": "stream",
          "name": "stdout",
          "text": [
            "[029/050] Train Acc: 0.665316 Loss: 1.069855 | Val Acc: 0.699534 loss: 0.944035\n",
            "saving model with acc 0.700\n"
          ]
        },
        {
          "output_type": "stream",
          "name": "stderr",
          "text": [
            "100%|██████████| 4134/4134 [04:51<00:00, 14.20it/s]\n",
            "100%|██████████| 1031/1031 [00:25<00:00, 40.51it/s]\n"
          ]
        },
        {
          "output_type": "stream",
          "name": "stdout",
          "text": [
            "[030/050] Train Acc: 0.666185 Loss: 1.066572 | Val Acc: 0.700280 loss: 0.941295\n",
            "saving model with acc 0.700\n"
          ]
        },
        {
          "output_type": "stream",
          "name": "stderr",
          "text": [
            "100%|██████████| 4134/4134 [04:49<00:00, 14.30it/s]\n",
            "100%|██████████| 1031/1031 [00:25<00:00, 40.25it/s]\n"
          ]
        },
        {
          "output_type": "stream",
          "name": "stdout",
          "text": [
            "[031/050] Train Acc: 0.667024 Loss: 1.064465 | Val Acc: 0.701220 loss: 0.937975\n",
            "saving model with acc 0.701\n"
          ]
        },
        {
          "output_type": "stream",
          "name": "stderr",
          "text": [
            "100%|██████████| 4134/4134 [04:53<00:00, 14.08it/s]\n",
            "100%|██████████| 1031/1031 [00:26<00:00, 39.31it/s]\n"
          ]
        },
        {
          "output_type": "stream",
          "name": "stdout",
          "text": [
            "[032/050] Train Acc: 0.668156 Loss: 1.059830 | Val Acc: 0.702738 loss: 0.936070\n",
            "saving model with acc 0.703\n"
          ]
        },
        {
          "output_type": "stream",
          "name": "stderr",
          "text": [
            "100%|██████████| 4134/4134 [04:58<00:00, 13.86it/s]\n",
            "100%|██████████| 1031/1031 [00:28<00:00, 36.67it/s]\n"
          ]
        },
        {
          "output_type": "stream",
          "name": "stdout",
          "text": [
            "[033/050] Train Acc: 0.668863 Loss: 1.058025 | Val Acc: 0.703174 loss: 0.933301\n",
            "saving model with acc 0.703\n"
          ]
        },
        {
          "output_type": "stream",
          "name": "stderr",
          "text": [
            "100%|██████████| 4134/4134 [05:03<00:00, 13.61it/s]\n",
            "100%|██████████| 1031/1031 [00:27<00:00, 37.28it/s]\n"
          ]
        },
        {
          "output_type": "stream",
          "name": "stdout",
          "text": [
            "[034/050] Train Acc: 0.668901 Loss: 1.056077 | Val Acc: 0.703359 loss: 0.931642\n",
            "saving model with acc 0.703\n"
          ]
        },
        {
          "output_type": "stream",
          "name": "stderr",
          "text": [
            "100%|██████████| 4134/4134 [05:05<00:00, 13.54it/s]\n",
            "100%|██████████| 1031/1031 [00:26<00:00, 39.55it/s]\n"
          ]
        },
        {
          "output_type": "stream",
          "name": "stdout",
          "text": [
            "[035/050] Train Acc: 0.670107 Loss: 1.052634 | Val Acc: 0.704151 loss: 0.928078\n",
            "saving model with acc 0.704\n"
          ]
        },
        {
          "output_type": "stream",
          "name": "stderr",
          "text": [
            "100%|██████████| 4134/4134 [04:55<00:00, 13.99it/s]\n",
            "100%|██████████| 1031/1031 [00:26<00:00, 38.24it/s]\n"
          ]
        },
        {
          "output_type": "stream",
          "name": "stdout",
          "text": [
            "[036/050] Train Acc: 0.671189 Loss: 1.050582 | Val Acc: 0.705085 loss: 0.926536\n",
            "saving model with acc 0.705\n"
          ]
        },
        {
          "output_type": "stream",
          "name": "stderr",
          "text": [
            "100%|██████████| 4134/4134 [04:52<00:00, 14.15it/s]\n",
            "100%|██████████| 1031/1031 [00:25<00:00, 40.14it/s]\n"
          ]
        },
        {
          "output_type": "stream",
          "name": "stdout",
          "text": [
            "[037/050] Train Acc: 0.671329 Loss: 1.048305 | Val Acc: 0.703964 loss: 0.928797\n"
          ]
        },
        {
          "output_type": "stream",
          "name": "stderr",
          "text": [
            "100%|██████████| 4134/4134 [04:59<00:00, 13.81it/s]\n",
            "100%|██████████| 1031/1031 [00:25<00:00, 39.80it/s]\n"
          ]
        },
        {
          "output_type": "stream",
          "name": "stdout",
          "text": [
            "[038/050] Train Acc: 0.671759 Loss: 1.046029 | Val Acc: 0.706016 loss: 0.923255\n",
            "saving model with acc 0.706\n"
          ]
        },
        {
          "output_type": "stream",
          "name": "stderr",
          "text": [
            "100%|██████████| 4134/4134 [04:51<00:00, 14.18it/s]\n",
            "100%|██████████| 1031/1031 [00:25<00:00, 39.84it/s]\n"
          ]
        },
        {
          "output_type": "stream",
          "name": "stdout",
          "text": [
            "[039/050] Train Acc: 0.672490 Loss: 1.043554 | Val Acc: 0.706887 loss: 0.921998\n",
            "saving model with acc 0.707\n"
          ]
        },
        {
          "output_type": "stream",
          "name": "stderr",
          "text": [
            "100%|██████████| 4134/4134 [04:54<00:00, 14.02it/s]\n",
            "100%|██████████| 1031/1031 [00:26<00:00, 39.62it/s]\n"
          ]
        },
        {
          "output_type": "stream",
          "name": "stdout",
          "text": [
            "[040/050] Train Acc: 0.673353 Loss: 1.041587 | Val Acc: 0.708051 loss: 0.917508\n",
            "saving model with acc 0.708\n"
          ]
        },
        {
          "output_type": "stream",
          "name": "stderr",
          "text": [
            "100%|██████████| 4134/4134 [04:52<00:00, 14.11it/s]\n",
            "100%|██████████| 1031/1031 [00:26<00:00, 38.57it/s]\n"
          ]
        },
        {
          "output_type": "stream",
          "name": "stdout",
          "text": [
            "[041/050] Train Acc: 0.673560 Loss: 1.040160 | Val Acc: 0.707636 loss: 0.917864\n"
          ]
        },
        {
          "output_type": "stream",
          "name": "stderr",
          "text": [
            "100%|██████████| 4134/4134 [04:54<00:00, 14.05it/s]\n",
            "100%|██████████| 1031/1031 [00:25<00:00, 39.85it/s]\n"
          ]
        },
        {
          "output_type": "stream",
          "name": "stdout",
          "text": [
            "[042/050] Train Acc: 0.674421 Loss: 1.037591 | Val Acc: 0.708500 loss: 0.916171\n",
            "saving model with acc 0.708\n"
          ]
        },
        {
          "output_type": "stream",
          "name": "stderr",
          "text": [
            "100%|██████████| 4134/4134 [04:54<00:00, 14.02it/s]\n",
            "100%|██████████| 1031/1031 [00:27<00:00, 37.14it/s]\n"
          ]
        },
        {
          "output_type": "stream",
          "name": "stdout",
          "text": [
            "[043/050] Train Acc: 0.675256 Loss: 1.034904 | Val Acc: 0.707514 loss: 0.918059\n"
          ]
        },
        {
          "output_type": "stream",
          "name": "stderr",
          "text": [
            "100%|██████████| 4134/4134 [04:56<00:00, 13.94it/s]\n",
            "100%|██████████| 1031/1031 [00:26<00:00, 39.03it/s]\n"
          ]
        },
        {
          "output_type": "stream",
          "name": "stdout",
          "text": [
            "[044/050] Train Acc: 0.675290 Loss: 1.033884 | Val Acc: 0.708685 loss: 0.914617\n",
            "saving model with acc 0.709\n"
          ]
        },
        {
          "output_type": "stream",
          "name": "stderr",
          "text": [
            "100%|██████████| 4134/4134 [05:04<00:00, 13.57it/s]\n",
            "100%|██████████| 1031/1031 [00:26<00:00, 38.80it/s]\n"
          ]
        },
        {
          "output_type": "stream",
          "name": "stdout",
          "text": [
            "[045/050] Train Acc: 0.676294 Loss: 1.031865 | Val Acc: 0.709004 loss: 0.912694\n",
            "saving model with acc 0.709\n"
          ]
        },
        {
          "output_type": "stream",
          "name": "stderr",
          "text": [
            "100%|██████████| 4134/4134 [05:07<00:00, 13.46it/s]\n",
            "100%|██████████| 1031/1031 [00:26<00:00, 39.22it/s]\n"
          ]
        },
        {
          "output_type": "stream",
          "name": "stdout",
          "text": [
            "[046/050] Train Acc: 0.676759 Loss: 1.030052 | Val Acc: 0.710514 loss: 0.909948\n",
            "saving model with acc 0.711\n"
          ]
        },
        {
          "output_type": "stream",
          "name": "stderr",
          "text": [
            "100%|██████████| 4134/4134 [05:00<00:00, 13.77it/s]\n",
            "100%|██████████| 1031/1031 [00:26<00:00, 39.26it/s]\n"
          ]
        },
        {
          "output_type": "stream",
          "name": "stdout",
          "text": [
            "[047/050] Train Acc: 0.677282 Loss: 1.028211 | Val Acc: 0.709866 loss: 0.909422\n"
          ]
        },
        {
          "output_type": "stream",
          "name": "stderr",
          "text": [
            "100%|██████████| 4134/4134 [04:58<00:00, 13.84it/s]\n",
            "100%|██████████| 1031/1031 [00:27<00:00, 37.19it/s]\n"
          ]
        },
        {
          "output_type": "stream",
          "name": "stdout",
          "text": [
            "[048/050] Train Acc: 0.677900 Loss: 1.027207 | Val Acc: 0.710612 loss: 0.907498\n",
            "saving model with acc 0.711\n"
          ]
        },
        {
          "output_type": "stream",
          "name": "stderr",
          "text": [
            "100%|██████████| 4134/4134 [05:02<00:00, 13.65it/s]\n",
            "100%|██████████| 1031/1031 [00:26<00:00, 38.86it/s]\n"
          ]
        },
        {
          "output_type": "stream",
          "name": "stdout",
          "text": [
            "[049/050] Train Acc: 0.678079 Loss: 1.024389 | Val Acc: 0.710540 loss: 0.907709\n"
          ]
        },
        {
          "output_type": "stream",
          "name": "stderr",
          "text": [
            "100%|██████████| 4134/4134 [05:08<00:00, 13.42it/s]\n",
            "100%|██████████| 1031/1031 [00:26<00:00, 38.36it/s]"
          ]
        },
        {
          "output_type": "stream",
          "name": "stdout",
          "text": [
            "[050/050] Train Acc: 0.678554 Loss: 1.023377 | Val Acc: 0.711863 loss: 0.903083\n",
            "saving model with acc 0.712\n"
          ]
        },
        {
          "output_type": "stream",
          "name": "stderr",
          "text": [
            "\n"
          ]
        }
      ],
      "source": [
        "best_acc = 0.0\n",
        "for epoch in range(num_epoch):\n",
        "    train_acc = 0.0\n",
        "    train_loss = 0.0\n",
        "    val_acc = 0.0\n",
        "    val_loss = 0.0\n",
        "\n",
        "    # training\n",
        "    model.train() # set the model to training mode\n",
        "    for i, batch in enumerate(tqdm(train_loader)):\n",
        "        features, labels = batch\n",
        "        features = features.to(device)\n",
        "        labels = labels.to(device)\n",
        "\n",
        "        optimizer.zero_grad()\n",
        "        outputs = model(features)\n",
        "\n",
        "        loss = criterion(outputs, labels)\n",
        "        loss.backward()\n",
        "        optimizer.step()\n",
        "\n",
        "        _, train_pred = torch.max(outputs, 1) # get the index of the class with the highest probability\n",
        "        train_acc += (train_pred.detach() == labels.detach()).sum().item()\n",
        "        train_loss += loss.item()\n",
        "\n",
        "    # validation\n",
        "    if len(val_set) > 0:\n",
        "        model.eval() # set the model to evaluation mode\n",
        "        with torch.no_grad():\n",
        "            for i, batch in enumerate(tqdm(val_loader)):\n",
        "                features, labels = batch\n",
        "                features = features.to(device)\n",
        "                labels = labels.to(device)\n",
        "                outputs = model(features)\n",
        "\n",
        "                loss = criterion(outputs, labels)\n",
        "\n",
        "                _, val_pred = torch.max(outputs, 1)\n",
        "                val_acc += (val_pred.cpu() == labels.cpu()).sum().item() # get the index of the class with the highest probability\n",
        "                val_loss += loss.item()\n",
        "\n",
        "            print('[{:03d}/{:03d}] Train Acc: {:3.6f} Loss: {:3.6f} | Val Acc: {:3.6f} loss: {:3.6f}'.format(\n",
        "                epoch + 1, num_epoch, train_acc/len(train_set), train_loss/len(train_loader), val_acc/len(val_set), val_loss/len(val_loader)\n",
        "            ))\n",
        "\n",
        "            # if the model improves, save a checkpoint at this epoch\n",
        "            if val_acc > best_acc:\n",
        "                best_acc = val_acc\n",
        "                torch.save(model.state_dict(), model_path)\n",
        "                print('saving model with acc {:.3f}'.format(best_acc/len(val_set)))\n",
        "    else:\n",
        "        print('[{:03d}/{:03d}] Train Acc: {:3.6f} Loss: {:3.6f}'.format(\n",
        "            epoch + 1, num_epoch, train_acc/len(train_set), train_loss/len(train_loader)\n",
        "        ))\n",
        "\n",
        "# if not validating, save the last epoch\n",
        "if len(val_set) == 0:\n",
        "    torch.save(model.state_dict(), model_path)\n",
        "    print('saving model at last epoch')\n"
      ]
    },
    {
      "cell_type": "code",
      "execution_count": 12,
      "metadata": {
        "id": "ab33MxosWLmG",
        "outputId": "358c7bff-549c-4778-e2df-f042a2b57279",
        "colab": {
          "base_uri": "https://localhost:8080/"
        }
      },
      "outputs": [
        {
          "output_type": "execute_result",
          "data": {
            "text/plain": [
              "0"
            ]
          },
          "metadata": {},
          "execution_count": 12
        }
      ],
      "source": [
        "del train_loader, val_loader\n",
        "gc.collect()"
      ]
    },
    {
      "cell_type": "markdown",
      "metadata": {
        "id": "1Hi7jTn3PX-m"
      },
      "source": [
        "## Testing\n",
        "Create a testing dataset, and load model from the saved checkpoint."
      ]
    },
    {
      "cell_type": "code",
      "execution_count": 13,
      "metadata": {
        "id": "VOG1Ou0PGrhc",
        "outputId": "adca4523-82fc-4963-855d-27fcac7afeb9",
        "colab": {
          "base_uri": "https://localhost:8080/"
        }
      },
      "outputs": [
        {
          "output_type": "stream",
          "name": "stdout",
          "text": [
            "[Dataset] - # phone classes: 41, number of utterances for test: 1078\n"
          ]
        },
        {
          "output_type": "stream",
          "name": "stderr",
          "text": [
            "1078it [00:08, 123.53it/s]"
          ]
        },
        {
          "output_type": "stream",
          "name": "stdout",
          "text": [
            "[INFO] test set\n",
            "torch.Size([646268, 741])\n"
          ]
        },
        {
          "output_type": "stream",
          "name": "stderr",
          "text": [
            "\n"
          ]
        }
      ],
      "source": [
        "# load data\n",
        "test_X = preprocess_data(split='test', feat_dir='./libriphone/feat', phone_path='./libriphone', concat_nframes=concat_nframes)\n",
        "test_set = LibriDataset(test_X, None)\n",
        "test_loader = DataLoader(test_set, batch_size=batch_size, shuffle=False)"
      ]
    },
    {
      "cell_type": "code",
      "execution_count": 14,
      "metadata": {
        "id": "ay0Fu8Ovkdad",
        "outputId": "9aa584b5-c7d5-4e69-a73f-9989e25429ef",
        "colab": {
          "base_uri": "https://localhost:8080/"
        }
      },
      "outputs": [
        {
          "output_type": "execute_result",
          "data": {
            "text/plain": [
              "<All keys matched successfully>"
            ]
          },
          "metadata": {},
          "execution_count": 14
        }
      ],
      "source": [
        "# load model\n",
        "model = Classifier(input_dim=input_dim, hidden_layers=hidden_layers, hidden_dim=hidden_dim).to(device)\n",
        "model.load_state_dict(torch.load(model_path))"
      ]
    },
    {
      "cell_type": "markdown",
      "metadata": {
        "id": "zp-DV1p4r7Nz"
      },
      "source": [
        "Make prediction."
      ]
    },
    {
      "cell_type": "code",
      "execution_count": 15,
      "metadata": {
        "id": "84HU5GGjPqR0",
        "outputId": "7d4f5469-5db6-4593-a86b-44956bf1a73b",
        "colab": {
          "base_uri": "https://localhost:8080/"
        }
      },
      "outputs": [
        {
          "output_type": "stream",
          "name": "stderr",
          "text": [
            "100%|██████████| 1263/1263 [00:29<00:00, 43.02it/s]\n"
          ]
        }
      ],
      "source": [
        "test_acc = 0.0\n",
        "test_lengths = 0\n",
        "pred = np.array([], dtype=np.int32)\n",
        "\n",
        "model.eval()\n",
        "with torch.no_grad():\n",
        "    for i, batch in enumerate(tqdm(test_loader)):\n",
        "        features = batch\n",
        "        features = features.to(device)\n",
        "\n",
        "        outputs = model(features)\n",
        "\n",
        "        _, test_pred = torch.max(outputs, 1) # get the index of the class with the highest probability\n",
        "        pred = np.concatenate((pred, test_pred.cpu().numpy()), axis=0)\n"
      ]
    },
    {
      "cell_type": "markdown",
      "metadata": {
        "id": "wyZqy40Prz0v"
      },
      "source": [
        "Write prediction to a CSV file.\n",
        "\n",
        "After finish running this block, download the file `prediction.csv` from the files section on the left-hand side and submit it to Kaggle."
      ]
    },
    {
      "cell_type": "code",
      "execution_count": 16,
      "metadata": {
        "id": "GuljYSPHcZir"
      },
      "outputs": [],
      "source": [
        "with open('prediction.csv', 'w') as f:\n",
        "    f.write('Id,Class\\n')\n",
        "    for i, y in enumerate(pred):\n",
        "        f.write('{},{}\\n'.format(i, y))"
      ]
    },
    {
      "cell_type": "markdown",
      "source": [
        "## Final Result\n",
        "\n",
        "![image.png](data:image/png;base64,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)"
      ],
      "metadata": {
        "id": "GWd3pZgJplTL"
      }
    }
  ],
  "metadata": {
    "accelerator": "TPU",
    "colab": {
      "name": "ML2022Spring - HW2.ipynb",
      "provenance": [],
      "include_colab_link": true
    },
    "kernelspec": {
      "display_name": "Python 3",
      "name": "python3"
    }
  },
  "nbformat": 4,
  "nbformat_minor": 0
}