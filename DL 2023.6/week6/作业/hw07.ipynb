{
  "metadata": {
    "kernelspec": {
      "display_name": "Python 3",
      "language": "python",
      "name": "python3"
    },
    "language_info": {
      "name": "python",
      "version": "3.10.12",
      "mimetype": "text/x-python",
      "codemirror_mode": {
        "name": "ipython",
        "version": 3
      },
      "pygments_lexer": "ipython3",
      "nbconvert_exporter": "python",
      "file_extension": ".py"
    },
    "papermill": {
      "default_parameters": {},
      "duration": 1562.090338,
      "end_time": "2022-04-20T04:26:44.858254",
      "environment_variables": {},
      "exception": null,
      "input_path": "__notebook__.ipynb",
      "output_path": "__notebook__.ipynb",
      "parameters": {},
      "start_time": "2022-04-20T04:00:42.767916",
      "version": "2.3.3"
    },
    "widgets": {
      "application/vnd.jupyter.widget-state+json": {}
    },
    "colab": {
      "provenance": [],
      "include_colab_link": true
    }
  },
  "nbformat_minor": 5,
  "nbformat": 4,
  "cells": [
    {
      "cell_type": "markdown",
      "metadata": {
        "id": "view-in-github",
        "colab_type": "text"
      },
      "source": [
        "<a href=\"https://colab.research.google.com/github/ldm2060/LearningNote/blob/main/DL%202023.6/week6/%E4%BD%9C%E4%B8%9A/hw07.ipynb\" target=\"_parent\"><img src=\"https://colab.research.google.com/assets/colab-badge.svg\" alt=\"Open In Colab\"/></a>"
      ]
    },
    {
      "cell_type": "markdown",
      "source": [
        "# **Homework 7 - Bert (Question Answering)**\n",
        "\n",
        "If you have any questions, feel free to email us at mlta-2022-spring@googlegroups.com\n",
        "\n",
        "\n",
        "\n",
        "Slide:    [Link](https://docs.google.com/presentation/d/1H5ZONrb2LMOCixLY7D5_5-7LkIaXO6AGEaV2mRdTOMY/edit?usp=sharing)　Kaggle: [Link](https://www.kaggle.com/c/ml2022spring-hw7)　Data: [Link](https://drive.google.com/uc?id=1AVgZvy3VFeg0fX-6WQJMHPVrx3A-M1kb)\n",
        "\n",
        "\n"
      ],
      "metadata": {
        "id": "xvSGDbExff_I",
        "papermill": {
          "duration": 0.01886,
          "end_time": "2022-04-20T04:00:51.080694",
          "exception": false,
          "start_time": "2022-04-20T04:00:51.061834",
          "status": "completed"
        },
        "tags": []
      },
      "id": "xvSGDbExff_I"
    },
    {
      "cell_type": "markdown",
      "source": [
        "## Task description\n",
        "- Chinese Extractive Question Answering\n",
        "  - Input: Paragraph + Question\n",
        "  - Output: Answer\n",
        "\n",
        "- Objective: Learn how to fine tune a pretrained model on downstream task using transformers\n",
        "\n",
        "- Todo\n",
        "    - Fine tune a pretrained chinese BERT model\n",
        "    - Change hyperparameters (e.g. doc_stride)\n",
        "    - Apply linear learning rate decay\n",
        "    - Try other pretrained models\n",
        "    - Improve preprocessing\n",
        "    - Improve postprocessing\n",
        "- Training tips\n",
        "    - Automatic mixed precision\n",
        "    - Gradient accumulation\n",
        "    - Ensemble\n",
        "\n",
        "- Estimated training time (tesla t4 with automatic mixed precision enabled)\n",
        "    - Simple: 8mins\n",
        "    - Medium: 8mins\n",
        "    - Strong: 25mins\n",
        "    - Boss: 2.5hrs\n",
        "  "
      ],
      "metadata": {
        "id": "WGOr_eS3wJJf",
        "papermill": {
          "duration": 0.016912,
          "end_time": "2022-04-20T04:00:51.117251",
          "exception": false,
          "start_time": "2022-04-20T04:00:51.100339",
          "status": "completed"
        },
        "tags": []
      },
      "id": "WGOr_eS3wJJf"
    },
    {
      "cell_type": "markdown",
      "source": [
        "## Download Dataset"
      ],
      "metadata": {
        "id": "TJ1fSAJE2oaC",
        "papermill": {
          "duration": 0.016866,
          "end_time": "2022-04-20T04:00:51.151244",
          "exception": false,
          "start_time": "2022-04-20T04:00:51.134378",
          "status": "completed"
        },
        "tags": []
      },
      "id": "TJ1fSAJE2oaC"
    },
    {
      "cell_type": "code",
      "source": [
        "# Download link 1\n",
        "#!gdown --id '1AVgZvy3VFeg0fX-6WQJMHPVrx3A-M1kb' --output hw7_data.zip\n",
        "\n",
        "# Download Link 2 (if the above link fails)\n",
        "# !gdown --id '1qwjbRjq481lHsnTrrF4OjKQnxzgoLEFR' --output hw7_data.zip\n",
        "\n",
        "# Download Link 3 (if the above link fails)\n",
        "# !gdown --id '1QXuWjNRZH6DscSd6QcRER0cnxmpZvijn' --output hw7_data.zip\n",
        "\n",
        "#!unzip -o hw7_data.zip\n",
        "\n",
        "# For this HW, K80 < P4 < T4 < P100 <= T4(fp16) < V100\n",
        "!nvidia-smi"
      ],
      "metadata": {
        "id": "YPrc4Eie9Yo5",
        "papermill": {
          "duration": 0.765148,
          "end_time": "2022-04-20T04:00:51.933679",
          "exception": false,
          "start_time": "2022-04-20T04:00:51.168531",
          "status": "completed"
        },
        "tags": [],
        "execution": {
          "iopub.status.busy": "2023-07-30T06:41:26.830791Z",
          "iopub.execute_input": "2023-07-30T06:41:26.831507Z",
          "iopub.status.idle": "2023-07-30T06:41:27.947091Z",
          "shell.execute_reply.started": "2023-07-30T06:41:26.831464Z",
          "shell.execute_reply": "2023-07-30T06:41:27.945662Z"
        },
        "trusted": true,
        "outputId": "1772bd81-b2d7-40de-9135-c3c44b5f45d5"
      },
      "execution_count": null,
      "outputs": [
        {
          "name": "stdout",
          "text": "Sun Jul 30 06:41:27 2023       \n+-----------------------------------------------------------------------------+\n| NVIDIA-SMI 470.161.03   Driver Version: 470.161.03   CUDA Version: 11.4     |\n|-------------------------------+----------------------+----------------------+\n| GPU  Name        Persistence-M| Bus-Id        Disp.A | Volatile Uncorr. ECC |\n| Fan  Temp  Perf  Pwr:Usage/Cap|         Memory-Usage | GPU-Util  Compute M. |\n|                               |                      |               MIG M. |\n|===============================+======================+======================|\n|   0  Tesla P100-PCIE...  Off  | 00000000:00:04.0 Off |                    0 |\n| N/A   36C    P0    26W / 250W |      0MiB / 16280MiB |      0%      Default |\n|                               |                      |                  N/A |\n+-------------------------------+----------------------+----------------------+\n                                                                               \n+-----------------------------------------------------------------------------+\n| Processes:                                                                  |\n|  GPU   GI   CI        PID   Type   Process name                  GPU Memory |\n|        ID   ID                                                   Usage      |\n|=============================================================================|\n|  No running processes found                                                 |\n+-----------------------------------------------------------------------------+\n",
          "output_type": "stream"
        }
      ],
      "id": "YPrc4Eie9Yo5"
    },
    {
      "cell_type": "markdown",
      "source": [
        "## Install transformers\n",
        "\n",
        "Documentation for the toolkit:　https://huggingface.co/transformers/"
      ],
      "metadata": {
        "id": "TevOvhC03m0h",
        "papermill": {
          "duration": 0.017454,
          "end_time": "2022-04-20T04:00:51.970583",
          "exception": false,
          "start_time": "2022-04-20T04:00:51.953129",
          "status": "completed"
        },
        "tags": []
      },
      "id": "TevOvhC03m0h"
    },
    {
      "cell_type": "code",
      "source": [
        "# You are allowed to change version of transformers or use other toolkits\n",
        "!pip install transformers==4.5.0"
      ],
      "metadata": {
        "id": "tbxWFX_jpDom",
        "papermill": {
          "duration": 16.416744,
          "end_time": "2022-04-20T04:01:08.405129",
          "exception": false,
          "start_time": "2022-04-20T04:00:51.988385",
          "status": "completed"
        },
        "tags": [],
        "execution": {
          "iopub.status.busy": "2023-07-30T06:41:27.949846Z",
          "iopub.execute_input": "2023-07-30T06:41:27.950640Z",
          "iopub.status.idle": "2023-07-30T06:41:51.877946Z",
          "shell.execute_reply.started": "2023-07-30T06:41:27.950597Z",
          "shell.execute_reply": "2023-07-30T06:41:51.876474Z"
        },
        "trusted": true,
        "outputId": "d227a017-cad8-4238-9a04-eab824f8b6ed"
      },
      "execution_count": null,
      "outputs": [
        {
          "name": "stdout",
          "text": "Collecting transformers==4.5.0\n  Downloading transformers-4.5.0-py3-none-any.whl (2.1 MB)\n\u001b[2K     \u001b[90m━━━━━━━━━━━━━━━━━━━━━━━━━━━━━━━━━━━━━━━━\u001b[0m \u001b[32m2.1/2.1 MB\u001b[0m \u001b[31m22.1 MB/s\u001b[0m eta \u001b[36m0:00:00\u001b[0m00:01\u001b[0m0:01\u001b[0m\n\u001b[?25hRequirement already satisfied: filelock in /opt/conda/lib/python3.10/site-packages (from transformers==4.5.0) (3.12.2)\nRequirement already satisfied: numpy>=1.17 in /opt/conda/lib/python3.10/site-packages (from transformers==4.5.0) (1.23.5)\nRequirement already satisfied: packaging in /opt/conda/lib/python3.10/site-packages (from transformers==4.5.0) (21.3)\nRequirement already satisfied: regex!=2019.12.17 in /opt/conda/lib/python3.10/site-packages (from transformers==4.5.0) (2023.6.3)\nRequirement already satisfied: requests in /opt/conda/lib/python3.10/site-packages (from transformers==4.5.0) (2.31.0)\nCollecting sacremoses (from transformers==4.5.0)\n  Downloading sacremoses-0.0.53.tar.gz (880 kB)\n\u001b[2K     \u001b[90m━━━━━━━━━━━━━━━━━━━━━━━━━━━━━━━━━━━━━━\u001b[0m \u001b[32m880.6/880.6 kB\u001b[0m \u001b[31m41.5 MB/s\u001b[0m eta \u001b[36m0:00:00\u001b[0m\n\u001b[?25h  Preparing metadata (setup.py) ... \u001b[?25ldone\n\u001b[?25hCollecting tokenizers<0.11,>=0.10.1 (from transformers==4.5.0)\n  Downloading tokenizers-0.10.3.tar.gz (212 kB)\n\u001b[2K     \u001b[90m━━━━━━━━━━━━━━━━━━━━━━━━━━━━━━━━━━━━━━\u001b[0m \u001b[32m212.7/212.7 kB\u001b[0m \u001b[31m17.2 MB/s\u001b[0m eta \u001b[36m0:00:00\u001b[0m\n\u001b[?25h  Installing build dependencies ... \u001b[?25ldone\n\u001b[?25h  Getting requirements to build wheel ... \u001b[?25ldone\n\u001b[?25h  Preparing metadata (pyproject.toml) ... \u001b[?25ldone\n\u001b[?25hRequirement already satisfied: tqdm>=4.27 in /opt/conda/lib/python3.10/site-packages (from transformers==4.5.0) (4.65.0)\nRequirement already satisfied: pyparsing!=3.0.5,>=2.0.2 in /opt/conda/lib/python3.10/site-packages (from packaging->transformers==4.5.0) (3.0.9)\nRequirement already satisfied: charset-normalizer<4,>=2 in /opt/conda/lib/python3.10/site-packages (from requests->transformers==4.5.0) (3.1.0)\nRequirement already satisfied: idna<4,>=2.5 in /opt/conda/lib/python3.10/site-packages (from requests->transformers==4.5.0) (3.4)\nRequirement already satisfied: urllib3<3,>=1.21.1 in /opt/conda/lib/python3.10/site-packages (from requests->transformers==4.5.0) (1.26.15)\nRequirement already satisfied: certifi>=2017.4.17 in /opt/conda/lib/python3.10/site-packages (from requests->transformers==4.5.0) (2023.5.7)\nRequirement already satisfied: six in /opt/conda/lib/python3.10/site-packages (from sacremoses->transformers==4.5.0) (1.16.0)\nRequirement already satisfied: click in /opt/conda/lib/python3.10/site-packages (from sacremoses->transformers==4.5.0) (8.1.3)\nRequirement already satisfied: joblib in /opt/conda/lib/python3.10/site-packages (from sacremoses->transformers==4.5.0) (1.2.0)\nBuilding wheels for collected packages: tokenizers, sacremoses\n  Building wheel for tokenizers (pyproject.toml) ... \u001b[?25lerror\n  \u001b[1;31merror\u001b[0m: \u001b[1msubprocess-exited-with-error\u001b[0m\n  \n  \u001b[31m×\u001b[0m \u001b[32mBuilding wheel for tokenizers \u001b[0m\u001b[1;32m(\u001b[0m\u001b[32mpyproject.toml\u001b[0m\u001b[1;32m)\u001b[0m did not run successfully.\n  \u001b[31m│\u001b[0m exit code: \u001b[1;36m1\u001b[0m\n  \u001b[31m╰─>\u001b[0m \u001b[31m[51 lines of output]\u001b[0m\n  \u001b[31m   \u001b[0m running bdist_wheel\n  \u001b[31m   \u001b[0m running build\n  \u001b[31m   \u001b[0m running build_py\n  \u001b[31m   \u001b[0m creating build\n  \u001b[31m   \u001b[0m creating build/lib.linux-x86_64-cpython-310\n  \u001b[31m   \u001b[0m creating build/lib.linux-x86_64-cpython-310/tokenizers\n  \u001b[31m   \u001b[0m copying py_src/tokenizers/__init__.py -> build/lib.linux-x86_64-cpython-310/tokenizers\n  \u001b[31m   \u001b[0m creating build/lib.linux-x86_64-cpython-310/tokenizers/models\n  \u001b[31m   \u001b[0m copying py_src/tokenizers/models/__init__.py -> build/lib.linux-x86_64-cpython-310/tokenizers/models\n  \u001b[31m   \u001b[0m creating build/lib.linux-x86_64-cpython-310/tokenizers/decoders\n  \u001b[31m   \u001b[0m copying py_src/tokenizers/decoders/__init__.py -> build/lib.linux-x86_64-cpython-310/tokenizers/decoders\n  \u001b[31m   \u001b[0m creating build/lib.linux-x86_64-cpython-310/tokenizers/normalizers\n  \u001b[31m   \u001b[0m copying py_src/tokenizers/normalizers/__init__.py -> build/lib.linux-x86_64-cpython-310/tokenizers/normalizers\n  \u001b[31m   \u001b[0m creating build/lib.linux-x86_64-cpython-310/tokenizers/pre_tokenizers\n  \u001b[31m   \u001b[0m copying py_src/tokenizers/pre_tokenizers/__init__.py -> build/lib.linux-x86_64-cpython-310/tokenizers/pre_tokenizers\n  \u001b[31m   \u001b[0m creating build/lib.linux-x86_64-cpython-310/tokenizers/processors\n  \u001b[31m   \u001b[0m copying py_src/tokenizers/processors/__init__.py -> build/lib.linux-x86_64-cpython-310/tokenizers/processors\n  \u001b[31m   \u001b[0m creating build/lib.linux-x86_64-cpython-310/tokenizers/trainers\n  \u001b[31m   \u001b[0m copying py_src/tokenizers/trainers/__init__.py -> build/lib.linux-x86_64-cpython-310/tokenizers/trainers\n  \u001b[31m   \u001b[0m creating build/lib.linux-x86_64-cpython-310/tokenizers/implementations\n  \u001b[31m   \u001b[0m copying py_src/tokenizers/implementations/__init__.py -> build/lib.linux-x86_64-cpython-310/tokenizers/implementations\n  \u001b[31m   \u001b[0m copying py_src/tokenizers/implementations/base_tokenizer.py -> build/lib.linux-x86_64-cpython-310/tokenizers/implementations\n  \u001b[31m   \u001b[0m copying py_src/tokenizers/implementations/byte_level_bpe.py -> build/lib.linux-x86_64-cpython-310/tokenizers/implementations\n  \u001b[31m   \u001b[0m copying py_src/tokenizers/implementations/sentencepiece_bpe.py -> build/lib.linux-x86_64-cpython-310/tokenizers/implementations\n  \u001b[31m   \u001b[0m copying py_src/tokenizers/implementations/char_level_bpe.py -> build/lib.linux-x86_64-cpython-310/tokenizers/implementations\n  \u001b[31m   \u001b[0m copying py_src/tokenizers/implementations/bert_wordpiece.py -> build/lib.linux-x86_64-cpython-310/tokenizers/implementations\n  \u001b[31m   \u001b[0m copying py_src/tokenizers/implementations/sentencepiece_unigram.py -> build/lib.linux-x86_64-cpython-310/tokenizers/implementations\n  \u001b[31m   \u001b[0m creating build/lib.linux-x86_64-cpython-310/tokenizers/tools\n  \u001b[31m   \u001b[0m copying py_src/tokenizers/tools/__init__.py -> build/lib.linux-x86_64-cpython-310/tokenizers/tools\n  \u001b[31m   \u001b[0m copying py_src/tokenizers/tools/visualizer.py -> build/lib.linux-x86_64-cpython-310/tokenizers/tools\n  \u001b[31m   \u001b[0m copying py_src/tokenizers/__init__.pyi -> build/lib.linux-x86_64-cpython-310/tokenizers\n  \u001b[31m   \u001b[0m copying py_src/tokenizers/models/__init__.pyi -> build/lib.linux-x86_64-cpython-310/tokenizers/models\n  \u001b[31m   \u001b[0m copying py_src/tokenizers/decoders/__init__.pyi -> build/lib.linux-x86_64-cpython-310/tokenizers/decoders\n  \u001b[31m   \u001b[0m copying py_src/tokenizers/normalizers/__init__.pyi -> build/lib.linux-x86_64-cpython-310/tokenizers/normalizers\n  \u001b[31m   \u001b[0m copying py_src/tokenizers/pre_tokenizers/__init__.pyi -> build/lib.linux-x86_64-cpython-310/tokenizers/pre_tokenizers\n  \u001b[31m   \u001b[0m copying py_src/tokenizers/processors/__init__.pyi -> build/lib.linux-x86_64-cpython-310/tokenizers/processors\n  \u001b[31m   \u001b[0m copying py_src/tokenizers/trainers/__init__.pyi -> build/lib.linux-x86_64-cpython-310/tokenizers/trainers\n  \u001b[31m   \u001b[0m copying py_src/tokenizers/tools/visualizer-styles.css -> build/lib.linux-x86_64-cpython-310/tokenizers/tools\n  \u001b[31m   \u001b[0m running build_ext\n  \u001b[31m   \u001b[0m running build_rust\n  \u001b[31m   \u001b[0m error: can't find Rust compiler\n  \u001b[31m   \u001b[0m \n  \u001b[31m   \u001b[0m If you are using an outdated pip version, it is possible a prebuilt wheel is available for this package but pip is not able to install from it. Installing from the wheel would avoid the need for a Rust compiler.\n  \u001b[31m   \u001b[0m \n  \u001b[31m   \u001b[0m To update pip, run:\n  \u001b[31m   \u001b[0m \n  \u001b[31m   \u001b[0m     pip install --upgrade pip\n  \u001b[31m   \u001b[0m \n  \u001b[31m   \u001b[0m and then retry package installation.\n  \u001b[31m   \u001b[0m \n  \u001b[31m   \u001b[0m If you did intend to build this package from source, try installing a Rust compiler from your system package manager and ensure it is on the PATH during installation. Alternatively, rustup (available at https://rustup.rs) is the recommended way to download and update the Rust compiler toolchain.\n  \u001b[31m   \u001b[0m \u001b[31m[end of output]\u001b[0m\n  \n  \u001b[1;35mnote\u001b[0m: This error originates from a subprocess, and is likely not a problem with pip.\n\u001b[31m  ERROR: Failed building wheel for tokenizers\u001b[0m\u001b[31m\n\u001b[0m\u001b[?25h  Building wheel for sacremoses (setup.py) ... \u001b[?25ldone\n\u001b[?25h  Created wheel for sacremoses: filename=sacremoses-0.0.53-py3-none-any.whl size=895260 sha256=4c4a1a8c6e7a5f9110d8edaf33ac8c6394d9f1b9636f702a80777dff2d347098\n  Stored in directory: /root/.cache/pip/wheels/00/24/97/a2ea5324f36bc626e1ea0267f33db6aa80d157ee977e9e42fb\nSuccessfully built sacremoses\nFailed to build tokenizers\n\u001b[31mERROR: Could not build wheels for tokenizers, which is required to install pyproject.toml-based projects\u001b[0m\u001b[31m\n\u001b[0m",
          "output_type": "stream"
        }
      ],
      "id": "tbxWFX_jpDom"
    },
    {
      "cell_type": "markdown",
      "source": [
        "## Import Packages"
      ],
      "metadata": {
        "id": "8dKM4yCh4LI_",
        "papermill": {
          "duration": 0.028439,
          "end_time": "2022-04-20T04:01:08.462749",
          "exception": false,
          "start_time": "2022-04-20T04:01:08.434310",
          "status": "completed"
        },
        "tags": []
      },
      "id": "8dKM4yCh4LI_"
    },
    {
      "cell_type": "code",
      "source": [
        "import json\n",
        "import numpy as np\n",
        "import random\n",
        "import torch\n",
        "from torch.utils.data import DataLoader, Dataset\n",
        "from transformers import AdamW, BertForQuestionAnswering, BertTokenizerFast\n",
        "\n",
        "from tqdm.auto import tqdm\n",
        "\n",
        "device = \"cuda\" if torch.cuda.is_available() else \"cpu\"\n",
        "\n",
        "# Fix random seed for reproducibility\n",
        "def same_seeds(seed):\n",
        "\t  torch.manual_seed(seed)\n",
        "\t  if torch.cuda.is_available():\n",
        "\t\t    torch.cuda.manual_seed(seed)\n",
        "\t\t    torch.cuda.manual_seed_all(seed)\n",
        "\t  np.random.seed(seed)\n",
        "\t  random.seed(seed)\n",
        "\t  torch.backends.cudnn.benchmark = False\n",
        "\t  torch.backends.cudnn.deterministic = True\n",
        "same_seeds(0)"
      ],
      "metadata": {
        "id": "WOTHHtWJoahe",
        "papermill": {
          "duration": 5.651931,
          "end_time": "2022-04-20T04:01:14.143457",
          "exception": false,
          "start_time": "2022-04-20T04:01:08.491526",
          "status": "completed"
        },
        "tags": [],
        "execution": {
          "iopub.status.busy": "2023-07-30T06:41:51.879963Z",
          "iopub.execute_input": "2023-07-30T06:41:51.880354Z",
          "iopub.status.idle": "2023-07-30T06:42:05.478196Z",
          "shell.execute_reply.started": "2023-07-30T06:41:51.880314Z",
          "shell.execute_reply": "2023-07-30T06:42:05.477068Z"
        },
        "trusted": true,
        "outputId": "7e02c33f-ca01-4abd-9d80-240bf3c1237f"
      },
      "execution_count": null,
      "outputs": [
        {
          "name": "stderr",
          "text": "/opt/conda/lib/python3.10/site-packages/scipy/__init__.py:146: UserWarning: A NumPy version >=1.16.5 and <1.23.0 is required for this version of SciPy (detected version 1.23.5\n  warnings.warn(f\"A NumPy version >={np_minversion} and <{np_maxversion}\"\n/opt/conda/lib/python3.10/site-packages/tensorflow_io/python/ops/__init__.py:98: UserWarning: unable to load libtensorflow_io_plugins.so: unable to open file: libtensorflow_io_plugins.so, from paths: ['/opt/conda/lib/python3.10/site-packages/tensorflow_io/python/ops/libtensorflow_io_plugins.so']\ncaused by: ['/opt/conda/lib/python3.10/site-packages/tensorflow_io/python/ops/libtensorflow_io_plugins.so: undefined symbol: _ZN3tsl6StatusC1EN10tensorflow5error4CodeESt17basic_string_viewIcSt11char_traitsIcEENS_14SourceLocationE']\n  warnings.warn(f\"unable to load libtensorflow_io_plugins.so: {e}\")\n/opt/conda/lib/python3.10/site-packages/tensorflow_io/python/ops/__init__.py:104: UserWarning: file system plugins are not loaded: unable to open file: libtensorflow_io.so, from paths: ['/opt/conda/lib/python3.10/site-packages/tensorflow_io/python/ops/libtensorflow_io.so']\ncaused by: ['/opt/conda/lib/python3.10/site-packages/tensorflow_io/python/ops/libtensorflow_io.so: undefined symbol: _ZTVN10tensorflow13GcsFileSystemE']\n  warnings.warn(f\"file system plugins are not loaded: {e}\")\n",
          "output_type": "stream"
        }
      ],
      "id": "WOTHHtWJoahe"
    },
    {
      "cell_type": "code",
      "source": [
        "# Change \"fp16_training\" to True to support automatic mixed precision training (fp16)\n",
        "fp16_training = False\n",
        "\n",
        "if fp16_training:\n",
        "    !pip install accelerate==0.2.0\n",
        "    from accelerate import Accelerator\n",
        "    accelerator = Accelerator(fp16=True)\n",
        "    device = accelerator.device\n",
        "\n",
        "# Documentation for the toolkit:  https://huggingface.co/docs/accelerate/"
      ],
      "metadata": {
        "id": "7pBtSZP1SKQO",
        "papermill": {
          "duration": 0.040009,
          "end_time": "2022-04-20T04:01:14.213518",
          "exception": false,
          "start_time": "2022-04-20T04:01:14.173509",
          "status": "completed"
        },
        "tags": [],
        "execution": {
          "iopub.status.busy": "2023-07-30T06:42:05.481228Z",
          "iopub.execute_input": "2023-07-30T06:42:05.481640Z",
          "iopub.status.idle": "2023-07-30T06:42:05.492336Z",
          "shell.execute_reply.started": "2023-07-30T06:42:05.481602Z",
          "shell.execute_reply": "2023-07-30T06:42:05.490978Z"
        },
        "trusted": true
      },
      "execution_count": null,
      "outputs": [],
      "id": "7pBtSZP1SKQO"
    },
    {
      "cell_type": "markdown",
      "source": [
        "## Load Model and Tokenizer\n",
        "\n",
        "\n",
        "\n",
        "\n",
        ""
      ],
      "metadata": {
        "id": "2YgXHuVLp_6j",
        "papermill": {
          "duration": 0.030699,
          "end_time": "2022-04-20T04:01:14.277377",
          "exception": false,
          "start_time": "2022-04-20T04:01:14.246678",
          "status": "completed"
        },
        "tags": []
      },
      "id": "2YgXHuVLp_6j"
    },
    {
      "cell_type": "code",
      "source": [
        "model = BertForQuestionAnswering.from_pretrained(\"bert-base-chinese\").to(device)\n",
        "tokenizer = BertTokenizerFast.from_pretrained(\"bert-base-chinese\")\n",
        "\n",
        "# You can safely ignore the warning message (it pops up because new prediction heads for QA are initialized randomly)"
      ],
      "metadata": {
        "id": "xyBCYGjAp3ym",
        "papermill": {
          "duration": 45.61798,
          "end_time": "2022-04-20T04:01:59.925697",
          "exception": false,
          "start_time": "2022-04-20T04:01:14.307717",
          "status": "completed"
        },
        "tags": [],
        "execution": {
          "iopub.status.busy": "2023-07-30T06:42:05.495371Z",
          "iopub.execute_input": "2023-07-30T06:42:05.496290Z",
          "iopub.status.idle": "2023-07-30T06:42:18.044132Z",
          "shell.execute_reply.started": "2023-07-30T06:42:05.496252Z",
          "shell.execute_reply": "2023-07-30T06:42:18.042638Z"
        },
        "trusted": true,
        "colab": {
          "referenced_widgets": [
            "6cd8a50c69624796a163cbbd4e1b4e04",
            "0a53a4f6d0aa4c4587251b35f3d86fbb",
            "077a58de414442dea666f816ca188386",
            "d539334a03c04503996c3ba5512b338c",
            "6fc2f6a1cf444b309269330613b79e19"
          ]
        },
        "outputId": "47aa4ac3-30a4-4e43-b96f-673013055686"
      },
      "execution_count": null,
      "outputs": [
        {
          "output_type": "display_data",
          "data": {
            "text/plain": "Downloading (…)lve/main/config.json:   0%|          | 0.00/624 [00:00<?, ?B/s]",
            "application/vnd.jupyter.widget-view+json": {
              "version_major": 2,
              "version_minor": 0,
              "model_id": "6cd8a50c69624796a163cbbd4e1b4e04"
            }
          },
          "metadata": {}
        },
        {
          "output_type": "display_data",
          "data": {
            "text/plain": "Downloading model.safetensors:   0%|          | 0.00/412M [00:00<?, ?B/s]",
            "application/vnd.jupyter.widget-view+json": {
              "version_major": 2,
              "version_minor": 0,
              "model_id": "0a53a4f6d0aa4c4587251b35f3d86fbb"
            }
          },
          "metadata": {}
        },
        {
          "name": "stderr",
          "text": "Some weights of the model checkpoint at bert-base-chinese were not used when initializing BertForQuestionAnswering: ['cls.predictions.bias', 'cls.predictions.transform.LayerNorm.weight', 'cls.seq_relationship.weight', 'cls.predictions.transform.dense.weight', 'cls.predictions.transform.dense.bias', 'cls.seq_relationship.bias', 'cls.predictions.transform.LayerNorm.bias']\n- This IS expected if you are initializing BertForQuestionAnswering from the checkpoint of a model trained on another task or with another architecture (e.g. initializing a BertForSequenceClassification model from a BertForPreTraining model).\n- This IS NOT expected if you are initializing BertForQuestionAnswering from the checkpoint of a model that you expect to be exactly identical (initializing a BertForSequenceClassification model from a BertForSequenceClassification model).\nSome weights of BertForQuestionAnswering were not initialized from the model checkpoint at bert-base-chinese and are newly initialized: ['qa_outputs.bias', 'qa_outputs.weight']\nYou should probably TRAIN this model on a down-stream task to be able to use it for predictions and inference.\n",
          "output_type": "stream"
        },
        {
          "output_type": "display_data",
          "data": {
            "text/plain": "Downloading (…)okenizer_config.json:   0%|          | 0.00/29.0 [00:00<?, ?B/s]",
            "application/vnd.jupyter.widget-view+json": {
              "version_major": 2,
              "version_minor": 0,
              "model_id": "077a58de414442dea666f816ca188386"
            }
          },
          "metadata": {}
        },
        {
          "output_type": "display_data",
          "data": {
            "text/plain": "Downloading (…)solve/main/vocab.txt:   0%|          | 0.00/110k [00:00<?, ?B/s]",
            "application/vnd.jupyter.widget-view+json": {
              "version_major": 2,
              "version_minor": 0,
              "model_id": "d539334a03c04503996c3ba5512b338c"
            }
          },
          "metadata": {}
        },
        {
          "output_type": "display_data",
          "data": {
            "text/plain": "Downloading (…)/main/tokenizer.json:   0%|          | 0.00/269k [00:00<?, ?B/s]",
            "application/vnd.jupyter.widget-view+json": {
              "version_major": 2,
              "version_minor": 0,
              "model_id": "6fc2f6a1cf444b309269330613b79e19"
            }
          },
          "metadata": {}
        }
      ],
      "id": "xyBCYGjAp3ym"
    },
    {
      "cell_type": "markdown",
      "source": [
        "## Read Data\n",
        "\n",
        "- Training set: 31690 QA pairs\n",
        "- Dev set: 4131  QA pairs\n",
        "- Test set: 4957  QA pairs\n",
        "\n",
        "- {train/dev/test}_questions:\n",
        "  - List of dicts with the following keys:\n",
        "   - id (int)\n",
        "   - paragraph_id (int)\n",
        "   - question_text (string)\n",
        "   - answer_text (string)\n",
        "   - answer_start (int)\n",
        "   - answer_end (int)\n",
        "- {train/dev/test}_paragraphs:\n",
        "  - List of strings\n",
        "  - paragraph_ids in questions correspond to indexs in paragraphs\n",
        "  - A paragraph may be used by several questions"
      ],
      "metadata": {
        "id": "3Td-GTmk5OW4",
        "papermill": {
          "duration": 0.031398,
          "end_time": "2022-04-20T04:01:59.989171",
          "exception": false,
          "start_time": "2022-04-20T04:01:59.957773",
          "status": "completed"
        },
        "tags": []
      },
      "id": "3Td-GTmk5OW4"
    },
    {
      "cell_type": "code",
      "source": [
        "!tree .."
      ],
      "metadata": {
        "papermill": {
          "duration": 0.740224,
          "end_time": "2022-04-20T04:02:00.761565",
          "exception": false,
          "start_time": "2022-04-20T04:02:00.021341",
          "status": "completed"
        },
        "tags": [],
        "execution": {
          "iopub.status.busy": "2023-07-30T06:42:18.045772Z",
          "iopub.execute_input": "2023-07-30T06:42:18.046157Z",
          "iopub.status.idle": "2023-07-30T06:42:19.493778Z",
          "shell.execute_reply.started": "2023-07-30T06:42:18.046121Z",
          "shell.execute_reply": "2023-07-30T06:42:19.492478Z"
        },
        "trusted": true,
        "id": "d9A8ocDAsXny",
        "outputId": "cfdcd4c1-0fae-4d9b-d156-3571f3d532c1"
      },
      "execution_count": null,
      "outputs": [
        {
          "name": "stdout",
          "text": "\u001b[01;34m..\u001b[0m\n├── \u001b[01;34minput\u001b[0m\n│   └── \u001b[01;34mml2022spring-hw7\u001b[0m\n│       ├── \u001b[00mhw7_dev.json\u001b[0m\n│       ├── \u001b[00mhw7_test.json\u001b[0m\n│       └── \u001b[00mhw7_train.json\u001b[0m\n├── \u001b[01;34mlib\u001b[0m\n│   └── \u001b[01;34mkaggle\u001b[0m\n│       └── \u001b[00mgcp.py\u001b[0m\n└── \u001b[01;34mworking\u001b[0m\n\n5 directories, 4 files\n",
          "output_type": "stream"
        }
      ],
      "id": "d9A8ocDAsXny"
    },
    {
      "cell_type": "code",
      "source": [
        "def read_data(file):\n",
        "    with open(file, 'r', encoding=\"utf-8\") as reader:\n",
        "        data = json.load(reader)\n",
        "    return data[\"questions\"], data[\"paragraphs\"]\n",
        "\n",
        "train_questions, train_paragraphs = read_data(\"/kaggle/input/ml2022spring-hw7/hw7_train.json\")\n",
        "dev_questions, dev_paragraphs = read_data(\"/kaggle/input/ml2022spring-hw7/hw7_dev.json\")\n",
        "test_questions, test_paragraphs = read_data(\"/kaggle/input/ml2022spring-hw7/hw7_test.json\")"
      ],
      "metadata": {
        "id": "NvX7hlepogvu",
        "papermill": {
          "duration": 0.811763,
          "end_time": "2022-04-20T04:02:01.605443",
          "exception": false,
          "start_time": "2022-04-20T04:02:00.793680",
          "status": "completed"
        },
        "tags": [],
        "execution": {
          "iopub.status.busy": "2023-07-30T06:42:19.496058Z",
          "iopub.execute_input": "2023-07-30T06:42:19.497134Z",
          "iopub.status.idle": "2023-07-30T06:42:20.283321Z",
          "shell.execute_reply.started": "2023-07-30T06:42:19.497090Z",
          "shell.execute_reply": "2023-07-30T06:42:20.277019Z"
        },
        "trusted": true
      },
      "execution_count": null,
      "outputs": [],
      "id": "NvX7hlepogvu"
    },
    {
      "cell_type": "markdown",
      "source": [
        "## Tokenize Data"
      ],
      "metadata": {
        "id": "Fm0rpTHq0e4N",
        "papermill": {
          "duration": 0.03361,
          "end_time": "2022-04-20T04:02:01.673060",
          "exception": false,
          "start_time": "2022-04-20T04:02:01.639450",
          "status": "completed"
        },
        "tags": []
      },
      "id": "Fm0rpTHq0e4N"
    },
    {
      "cell_type": "code",
      "source": [
        "# Tokenize questions and paragraphs separately\n",
        "# 「add_special_tokens」 is set to False since special tokens will be added when tokenized questions and paragraphs are combined in datset __getitem__\n",
        "\n",
        "train_questions_tokenized = tokenizer([train_question[\"question_text\"] for train_question in train_questions], add_special_tokens=False)\n",
        "dev_questions_tokenized = tokenizer([dev_question[\"question_text\"] for dev_question in dev_questions], add_special_tokens=False)\n",
        "test_questions_tokenized = tokenizer([test_question[\"question_text\"] for test_question in test_questions], add_special_tokens=False)\n",
        "\n",
        "train_paragraphs_tokenized = tokenizer(train_paragraphs, add_special_tokens=False)\n",
        "dev_paragraphs_tokenized = tokenizer(dev_paragraphs, add_special_tokens=False)\n",
        "test_paragraphs_tokenized = tokenizer(test_paragraphs, add_special_tokens=False)\n",
        "\n",
        "# You can safely ignore the warning message as tokenized sequences will be futher processed in datset __getitem__ before passing to model"
      ],
      "metadata": {
        "id": "rTZ6B70Hoxie",
        "papermill": {
          "duration": 13.264777,
          "end_time": "2022-04-20T04:02:14.972838",
          "exception": false,
          "start_time": "2022-04-20T04:02:01.708061",
          "status": "completed"
        },
        "tags": [],
        "execution": {
          "iopub.status.busy": "2023-07-30T06:42:20.287474Z",
          "iopub.execute_input": "2023-07-30T06:42:20.287844Z",
          "iopub.status.idle": "2023-07-30T06:42:34.110566Z",
          "shell.execute_reply.started": "2023-07-30T06:42:20.287810Z",
          "shell.execute_reply": "2023-07-30T06:42:34.109150Z"
        },
        "trusted": true,
        "outputId": "2c1f4ebf-a7ff-46c7-bbbd-daa113375a4c"
      },
      "execution_count": null,
      "outputs": [
        {
          "name": "stderr",
          "text": "Token indices sequence length is longer than the specified maximum sequence length for this model (570 > 512). Running this sequence through the model will result in indexing errors\n",
          "output_type": "stream"
        }
      ],
      "id": "rTZ6B70Hoxie"
    },
    {
      "cell_type": "markdown",
      "source": [
        "## Dataset and Dataloader"
      ],
      "metadata": {
        "id": "Ws8c8_4d5UCI",
        "papermill": {
          "duration": 0.032404,
          "end_time": "2022-04-20T04:02:15.037748",
          "exception": false,
          "start_time": "2022-04-20T04:02:15.005344",
          "status": "completed"
        },
        "tags": []
      },
      "id": "Ws8c8_4d5UCI"
    },
    {
      "cell_type": "code",
      "source": [
        "class QA_Dataset(Dataset):\n",
        "    def __init__(self, split, questions, tokenized_questions, tokenized_paragraphs):\n",
        "        self.split = split\n",
        "        self.questions = questions\n",
        "        self.tokenized_questions = tokenized_questions\n",
        "        self.tokenized_paragraphs = tokenized_paragraphs\n",
        "        self.max_question_len = 40\n",
        "        self.max_paragraph_len = 150\n",
        "\n",
        "        ##### TODO: Change value of doc_stride #####\n",
        "        self.doc_stride = 32\n",
        "\n",
        "        # Input sequence length = [CLS] + question + [SEP] + paragraph + [SEP]\n",
        "        self.max_seq_len = 1 + self.max_question_len + 1 + self.max_paragraph_len + 1\n",
        "\n",
        "    def __len__(self):\n",
        "        return len(self.questions)\n",
        "\n",
        "    def __getitem__(self, idx):\n",
        "        question = self.questions[idx]\n",
        "        tokenized_question = self.tokenized_questions[idx]\n",
        "        tokenized_paragraph = self.tokenized_paragraphs[question[\"paragraph_id\"]]\n",
        "\n",
        "        ##### TODO: Preprocessing #####\n",
        "        # Hint: How to prevent model from learning something it should not learn\n",
        "\n",
        "        if self.split == \"train\":\n",
        "            # Convert answer's start/end positions in paragraph_text to start/end positions in tokenized_paragraph\n",
        "            answer_start_token = tokenized_paragraph.char_to_token(question[\"answer_start\"])\n",
        "            answer_end_token = tokenized_paragraph.char_to_token(question[\"answer_end\"])\n",
        "\n",
        "            # A single window is obtained by slicing the portion of paragraph containing the answer\n",
        "            mid = (answer_start_token + answer_end_token) // 2\n",
        "            paragraph_start = max(0, min(mid - self.max_paragraph_len // 2, len(tokenized_paragraph) - self.max_paragraph_len))\n",
        "            paragraph_end = paragraph_start + self.max_paragraph_len\n",
        "\n",
        "            # Slice question/paragraph and add special tokens (101: CLS, 102: SEP)\n",
        "            input_ids_question = [101] + tokenized_question.ids[:self.max_question_len] + [102]\n",
        "            input_ids_paragraph = tokenized_paragraph.ids[paragraph_start : paragraph_end] + [102]\n",
        "\n",
        "            # Convert answer's start/end positions in tokenized_paragraph to start/end positions in the window\n",
        "            answer_start_token += len(input_ids_question) - paragraph_start\n",
        "            answer_end_token += len(input_ids_question) - paragraph_start\n",
        "\n",
        "            # Pad sequence and obtain inputs to model\n",
        "            input_ids, token_type_ids, attention_mask = self.padding(input_ids_question, input_ids_paragraph)\n",
        "            return torch.tensor(input_ids), torch.tensor(token_type_ids), torch.tensor(attention_mask), answer_start_token, answer_end_token\n",
        "\n",
        "        # Validation/Testing\n",
        "        else:\n",
        "            input_ids_list, token_type_ids_list, attention_mask_list = [], [], []\n",
        "\n",
        "            # Paragraph is split into several windows, each with start positions separated by step \"doc_stride\"\n",
        "            for i in range(0, len(tokenized_paragraph), self.doc_stride):\n",
        "\n",
        "                # Slice question/paragraph and add special tokens (101: CLS, 102: SEP)\n",
        "                input_ids_question = [101] + tokenized_question.ids[:self.max_question_len] + [102]\n",
        "                input_ids_paragraph = tokenized_paragraph.ids[i : i + self.max_paragraph_len] + [102]\n",
        "\n",
        "                # Pad sequence and obtain inputs to model\n",
        "                input_ids, token_type_ids, attention_mask = self.padding(input_ids_question, input_ids_paragraph)\n",
        "\n",
        "                input_ids_list.append(input_ids)\n",
        "                token_type_ids_list.append(token_type_ids)\n",
        "                attention_mask_list.append(attention_mask)\n",
        "\n",
        "            return torch.tensor(input_ids_list), torch.tensor(token_type_ids_list), torch.tensor(attention_mask_list)\n",
        "\n",
        "    def padding(self, input_ids_question, input_ids_paragraph):\n",
        "        # Pad zeros if sequence length is shorter than max_seq_len\n",
        "        padding_len = self.max_seq_len - len(input_ids_question) - len(input_ids_paragraph)\n",
        "        # Indices of input sequence tokens in the vocabulary\n",
        "        input_ids = input_ids_question + input_ids_paragraph + [0] * padding_len\n",
        "        # Segment token indices to indicate first and second portions of the inputs. Indices are selected in [0, 1]\n",
        "        token_type_ids = [0] * len(input_ids_question) + [1] * len(input_ids_paragraph) + [0] * padding_len\n",
        "        # Mask to avoid performing attention on padding token indices. Mask values selected in [0, 1]\n",
        "        attention_mask = [1] * (len(input_ids_question) + len(input_ids_paragraph)) + [0] * padding_len\n",
        "\n",
        "        return input_ids, token_type_ids, attention_mask\n",
        "\n",
        "train_set = QA_Dataset(\"train\", train_questions, train_questions_tokenized, train_paragraphs_tokenized)\n",
        "dev_set = QA_Dataset(\"dev\", dev_questions, dev_questions_tokenized, dev_paragraphs_tokenized)\n",
        "test_set = QA_Dataset(\"test\", test_questions, test_questions_tokenized, test_paragraphs_tokenized)\n",
        "\n",
        "train_batch_size = 32\n",
        "\n",
        "# Note: Do NOT change batch size of dev_loader / test_loader !\n",
        "# Although batch size=1, it is actually a batch consisting of several windows from the same QA pair\n",
        "train_loader = DataLoader(train_set, batch_size=train_batch_size, shuffle=True, pin_memory=True)\n",
        "dev_loader = DataLoader(dev_set, batch_size=1, shuffle=False, pin_memory=True)\n",
        "test_loader = DataLoader(test_set, batch_size=1, shuffle=False, pin_memory=True)"
      ],
      "metadata": {
        "id": "Xjooag-Swnuh",
        "papermill": {
          "duration": 0.055535,
          "end_time": "2022-04-20T04:02:15.125698",
          "exception": false,
          "start_time": "2022-04-20T04:02:15.070163",
          "status": "completed"
        },
        "tags": [],
        "execution": {
          "iopub.status.busy": "2023-07-30T06:42:34.112346Z",
          "iopub.execute_input": "2023-07-30T06:42:34.112775Z",
          "iopub.status.idle": "2023-07-30T06:42:34.147180Z",
          "shell.execute_reply.started": "2023-07-30T06:42:34.112725Z",
          "shell.execute_reply": "2023-07-30T06:42:34.146025Z"
        },
        "trusted": true
      },
      "execution_count": null,
      "outputs": [],
      "id": "Xjooag-Swnuh"
    },
    {
      "cell_type": "markdown",
      "source": [
        "## Function for Evaluation"
      ],
      "metadata": {
        "id": "5_H1kqhR8CdM",
        "papermill": {
          "duration": 0.032566,
          "end_time": "2022-04-20T04:02:15.190582",
          "exception": false,
          "start_time": "2022-04-20T04:02:15.158016",
          "status": "completed"
        },
        "tags": []
      },
      "id": "5_H1kqhR8CdM"
    },
    {
      "cell_type": "code",
      "source": [
        "def evaluate(data, output):\n",
        "    ##### TODO: Postprocessing #####\n",
        "    # There is a bug and room for improvement in postprocessing\n",
        "    # Hint: Open your prediction file to see what is wrong\n",
        "\n",
        "    answer = ''\n",
        "    max_prob = float('-inf')\n",
        "    num_of_windows = data[0].shape[1]\n",
        "\n",
        "    for k in range(num_of_windows):\n",
        "        # Obtain answer by choosing the most probable start position / end position\n",
        "        start_prob, start_index = torch.max(output.start_logits[k], dim=0)\n",
        "        end_prob, end_index = torch.max(output.end_logits[k], dim=0)\n",
        "\n",
        "        # Probability of answer is calculated as sum of start_prob and end_prob\n",
        "        prob = start_prob + end_prob\n",
        "\n",
        "        # Replace answer if calculated probability is larger than previous windows\n",
        "        if prob > max_prob:\n",
        "            max_prob = prob\n",
        "            # Convert tokens to chars (e.g. [1920, 7032] --> \"大 金\")\n",
        "            answer = tokenizer.decode(data[0][0][k][start_index : end_index + 1])\n",
        "\n",
        "    # Remove spaces in answer (e.g. \"大 金\" --> \"大金\")\n",
        "    return answer.replace(' ','')"
      ],
      "metadata": {
        "id": "SqeA3PLPxOHu",
        "papermill": {
          "duration": 0.042005,
          "end_time": "2022-04-20T04:02:15.264654",
          "exception": false,
          "start_time": "2022-04-20T04:02:15.222649",
          "status": "completed"
        },
        "tags": [],
        "execution": {
          "iopub.status.busy": "2023-07-30T06:42:34.149128Z",
          "iopub.execute_input": "2023-07-30T06:42:34.150782Z",
          "iopub.status.idle": "2023-07-30T06:42:34.167067Z",
          "shell.execute_reply.started": "2023-07-30T06:42:34.150749Z",
          "shell.execute_reply": "2023-07-30T06:42:34.165706Z"
        },
        "trusted": true
      },
      "execution_count": null,
      "outputs": [],
      "id": "SqeA3PLPxOHu"
    },
    {
      "cell_type": "markdown",
      "source": [
        "## Training"
      ],
      "metadata": {
        "id": "rzHQit6eMnKG",
        "papermill": {
          "duration": 0.032301,
          "end_time": "2022-04-20T04:02:15.329455",
          "exception": false,
          "start_time": "2022-04-20T04:02:15.297154",
          "status": "completed"
        },
        "tags": []
      },
      "id": "rzHQit6eMnKG"
    },
    {
      "cell_type": "code",
      "source": [
        "num_epoch = 1\n",
        "validation = True\n",
        "logging_step = 100\n",
        "learning_rate = 2e-4\n",
        "optimizer = AdamW(model.parameters(), lr=learning_rate)\n",
        "from transformers import get_linear_schedule_with_warmup\n",
        "scheduler = get_linear_schedule_with_warmup(optimizer, num_warmup_steps=100, num_training_steps=1000)\n",
        "\n",
        "if fp16_training:\n",
        "    model, optimizer, train_loader = accelerator.prepare(model, optimizer, train_loader)\n",
        "\n",
        "model.train()\n",
        "\n",
        "print(\"Start Training ...\")\n",
        "\n",
        "for epoch in range(num_epoch):\n",
        "    step = 1\n",
        "    train_loss = train_acc = 0\n",
        "\n",
        "    for data in tqdm(train_loader):\n",
        "        # Load all data into GPU\n",
        "        data = [i.to(device) for i in data]\n",
        "\n",
        "        # Model inputs: input_ids, token_type_ids, attention_mask, start_positions, end_positions (Note: only \"input_ids\" is mandatory)\n",
        "        # Model outputs: start_logits, end_logits, loss (return when start_positions/end_positions are provided)\n",
        "        output = model(input_ids=data[0], token_type_ids=data[1], attention_mask=data[2], start_positions=data[3], end_positions=data[4])\n",
        "\n",
        "        # Choose the most probable start position / end position\n",
        "        start_index = torch.argmax(output.start_logits, dim=1)\n",
        "        end_index = torch.argmax(output.end_logits, dim=1)\n",
        "\n",
        "        # Prediction is correct only if both start_index and end_index are correct\n",
        "        train_acc += ((start_index == data[3]) & (end_index == data[4])).float().mean()\n",
        "        train_loss += output.loss\n",
        "\n",
        "        if fp16_training:\n",
        "            accelerator.backward(output.loss)\n",
        "        else:\n",
        "            output.loss.backward()\n",
        "\n",
        "        optimizer.step()\n",
        "        optimizer.zero_grad()\n",
        "        scheduler.step()\n",
        "        step += 1\n",
        "\n",
        "        ##### TODO: Apply linear learning rate decay #####\n",
        "\n",
        "\n",
        "        # Print training loss and accuracy over past logging step\n",
        "        if step % logging_step == 0:\n",
        "            print(f\"Epoch {epoch + 1} | Step {step} | loss = {train_loss.item() / logging_step:.3f}, acc = {train_acc / logging_step:.3f}\")\n",
        "            train_loss = train_acc = 0\n",
        "\n",
        "    if validation:\n",
        "        print(\"Evaluating Dev Set ...\")\n",
        "        model.eval()\n",
        "        with torch.no_grad():\n",
        "            dev_acc = 0\n",
        "            for i, data in enumerate(tqdm(dev_loader)):\n",
        "                output = model(input_ids=data[0].squeeze(dim=0).to(device), token_type_ids=data[1].squeeze(dim=0).to(device),\n",
        "                       attention_mask=data[2].squeeze(dim=0).to(device))\n",
        "                # prediction is correct only if answer text exactly matches\n",
        "                dev_acc += evaluate(data, output) == dev_questions[i][\"answer_text\"]\n",
        "            print(f\"Validation | Epoch {epoch + 1} | acc = {dev_acc / len(dev_loader):.3f}\")\n",
        "        model.train()\n",
        "\n",
        "# Save a model and its configuration file to the directory 「saved_model」\n",
        "# i.e. there are two files under the direcory 「saved_model」: 「pytorch_model.bin」 and 「config.json」\n",
        "# Saved model can be re-loaded using 「model = BertForQuestionAnswering.from_pretrained(\"saved_model\")」\n",
        "print(\"Saving Model ...\")\n",
        "model_save_dir = \"saved_model\"\n",
        "model.save_pretrained(model_save_dir)"
      ],
      "metadata": {
        "id": "3Q-B6ka7xoCM",
        "papermill": {
          "duration": 988.732673,
          "end_time": "2022-04-20T04:18:44.094169",
          "exception": false,
          "start_time": "2022-04-20T04:02:15.361496",
          "status": "completed"
        },
        "tags": [],
        "execution": {
          "iopub.status.busy": "2023-07-30T06:42:34.171779Z",
          "iopub.execute_input": "2023-07-30T06:42:34.172309Z",
          "iopub.status.idle": "2023-07-30T06:58:46.677472Z",
          "shell.execute_reply.started": "2023-07-30T06:42:34.172267Z",
          "shell.execute_reply": "2023-07-30T06:58:46.676231Z"
        },
        "trusted": true,
        "colab": {
          "referenced_widgets": [
            "7fb0f11ccb4b479faf86b6e4c38faf16",
            "41234cc27bf34fb592ab593e6a50a1c4"
          ]
        },
        "outputId": "5c2be82b-7ea1-4d38-d686-7d12303eb857"
      },
      "execution_count": null,
      "outputs": [
        {
          "name": "stdout",
          "text": "Start Training ...\n",
          "output_type": "stream"
        },
        {
          "name": "stderr",
          "text": "/opt/conda/lib/python3.10/site-packages/transformers/optimization.py:411: FutureWarning: This implementation of AdamW is deprecated and will be removed in a future version. Use the PyTorch implementation torch.optim.AdamW instead, or set `no_deprecation_warning=True` to disable this warning\n  warnings.warn(\n",
          "output_type": "stream"
        },
        {
          "output_type": "display_data",
          "data": {
            "text/plain": "  0%|          | 0/991 [00:00<?, ?it/s]",
            "application/vnd.jupyter.widget-view+json": {
              "version_major": 2,
              "version_minor": 0,
              "model_id": "7fb0f11ccb4b479faf86b6e4c38faf16"
            }
          },
          "metadata": {}
        },
        {
          "name": "stdout",
          "text": "Epoch 1 | Step 100 | loss = 2.251, acc = 0.353\nEpoch 1 | Step 200 | loss = 1.065, acc = 0.585\nEpoch 1 | Step 300 | loss = 0.893, acc = 0.648\nEpoch 1 | Step 400 | loss = 0.819, acc = 0.668\nEpoch 1 | Step 500 | loss = 0.708, acc = 0.709\nEpoch 1 | Step 600 | loss = 0.659, acc = 0.722\nEpoch 1 | Step 700 | loss = 0.604, acc = 0.742\nEpoch 1 | Step 800 | loss = 0.571, acc = 0.763\nEpoch 1 | Step 900 | loss = 0.503, acc = 0.780\nEvaluating Dev Set ...\n",
          "output_type": "stream"
        },
        {
          "output_type": "display_data",
          "data": {
            "text/plain": "  0%|          | 0/4131 [00:00<?, ?it/s]",
            "application/vnd.jupyter.widget-view+json": {
              "version_major": 2,
              "version_minor": 0,
              "model_id": "41234cc27bf34fb592ab593e6a50a1c4"
            }
          },
          "metadata": {}
        },
        {
          "name": "stdout",
          "text": "Validation | Epoch 1 | acc = 0.633\nSaving Model ...\n",
          "output_type": "stream"
        }
      ],
      "id": "3Q-B6ka7xoCM"
    },
    {
      "cell_type": "markdown",
      "source": [
        "## Testing"
      ],
      "metadata": {
        "id": "kMmdLOKBMsdE",
        "papermill": {
          "duration": 0.035921,
          "end_time": "2022-04-20T04:18:44.166962",
          "exception": false,
          "start_time": "2022-04-20T04:18:44.131041",
          "status": "completed"
        },
        "tags": []
      },
      "id": "kMmdLOKBMsdE"
    },
    {
      "cell_type": "code",
      "source": [
        "print(\"Evaluating Test Set ...\")\n",
        "\n",
        "result = []\n",
        "\n",
        "model.eval()\n",
        "with torch.no_grad():\n",
        "    for data in tqdm(test_loader):\n",
        "        output = model(input_ids=data[0].squeeze(dim=0).to(device), token_type_ids=data[1].squeeze(dim=0).to(device),\n",
        "                       attention_mask=data[2].squeeze(dim=0).to(device))\n",
        "        result.append(evaluate(data, output))\n",
        "\n",
        "result_file = \"/kaggle/working/result.csv\"\n",
        "with open(result_file, 'w') as f:\n",
        "\t  f.write(\"ID,Answer\\n\")\n",
        "\t  for i, test_question in enumerate(test_questions):\n",
        "        # Replace commas in answers with empty strings (since csv is separated by comma)\n",
        "        # Answers in kaggle are processed in the same way\n",
        "\t\t    f.write(f\"{test_question['id']},{result[i].replace(',','')}\\n\")\n",
        "\n",
        "print(f\"Completed! Result is in {result_file}\")"
      ],
      "metadata": {
        "id": "U5scNKC9xz0C",
        "papermill": {
          "duration": 477.612433,
          "end_time": "2022-04-20T04:26:41.815594",
          "exception": false,
          "start_time": "2022-04-20T04:18:44.203161",
          "status": "completed"
        },
        "tags": [],
        "execution": {
          "iopub.status.busy": "2023-07-30T06:58:46.679072Z",
          "iopub.execute_input": "2023-07-30T06:58:46.680185Z",
          "iopub.status.idle": "2023-07-30T07:06:24.027379Z",
          "shell.execute_reply.started": "2023-07-30T06:58:46.680143Z",
          "shell.execute_reply": "2023-07-30T07:06:24.026060Z"
        },
        "trusted": true,
        "colab": {
          "referenced_widgets": [
            "6017e354c8fa4e428279361bd962fa98"
          ]
        },
        "outputId": "619bfe46-18ca-4bf5-97a9-78983dfd5590"
      },
      "execution_count": null,
      "outputs": [
        {
          "name": "stdout",
          "text": "Evaluating Test Set ...\n",
          "output_type": "stream"
        },
        {
          "output_type": "display_data",
          "data": {
            "text/plain": "  0%|          | 0/4957 [00:00<?, ?it/s]",
            "application/vnd.jupyter.widget-view+json": {
              "version_major": 2,
              "version_minor": 0,
              "model_id": "6017e354c8fa4e428279361bd962fa98"
            }
          },
          "metadata": {}
        },
        {
          "name": "stdout",
          "text": "Completed! Result is in /kaggle/working/result.csv\n",
          "output_type": "stream"
        }
      ],
      "id": "U5scNKC9xz0C"
    },
    {
      "cell_type": "markdown",
      "source": [
        "# 最终结果\n",
        "\n",
        "![image.png](data:image/png;base64,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)"
      ],
      "metadata": {
        "id": "A13Xee9bsXn0"
      },
      "id": "A13Xee9bsXn0"
    }
  ]
}